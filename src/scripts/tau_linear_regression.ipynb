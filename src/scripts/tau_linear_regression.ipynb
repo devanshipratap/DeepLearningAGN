{
 "cells": [
  {
   "cell_type": "code",
   "execution_count": 2,
   "metadata": {
    "collapsed": true
   },
   "outputs": [],
   "source": [
    "# importing packages\n",
    "import numpy as np\n",
    "import pandas as pd\n",
    "import matplotlib.pyplot as plt \n",
    "from sklearn.linear_model import LinearRegression\n",
    "from sklearn.model_selection import train_test_split \n",
    "from sklearn import metrics"
   ]
  },
  {
   "cell_type": "code",
   "execution_count": 3,
   "metadata": {},
   "outputs": [
    {
     "data": {
      "text/html": [
       "<div>\n",
       "<style scoped>\n",
       "    .dataframe tbody tr th:only-of-type {\n",
       "        vertical-align: middle;\n",
       "    }\n",
       "\n",
       "    .dataframe tbody tr th {\n",
       "        vertical-align: top;\n",
       "    }\n",
       "\n",
       "    .dataframe thead th {\n",
       "        text-align: right;\n",
       "    }\n",
       "</style>\n",
       "<table border=\"1\" class=\"dataframe\">\n",
       "  <thead>\n",
       "    <tr style=\"text-align: right;\">\n",
       "      <th></th>\n",
       "      <th>ID</th>\n",
       "      <th>RA</th>\n",
       "      <th>DEC</th>\n",
       "      <th>tau</th>\n",
       "      <th>tau_lim_lo</th>\n",
       "      <th>tau_lim_hi</th>\n",
       "      <th>Mass_ground_truth</th>\n",
       "      <th>M_tau</th>\n",
       "      <th>ERR</th>\n",
       "      <th>z</th>\n",
       "    </tr>\n",
       "  </thead>\n",
       "  <tbody>\n",
       "    <tr>\n",
       "      <th>0</th>\n",
       "      <td>70</td>\n",
       "      <td>2.169302</td>\n",
       "      <td>1.238649</td>\n",
       "      <td>1.99550</td>\n",
       "      <td>1.53265</td>\n",
       "      <td>3.72459</td>\n",
       "      <td>7.523331</td>\n",
       "      <td>7.652679</td>\n",
       "      <td>1.523093</td>\n",
       "      <td>1.0730</td>\n",
       "    </tr>\n",
       "    <tr>\n",
       "      <th>1</th>\n",
       "      <td>98</td>\n",
       "      <td>1.091028</td>\n",
       "      <td>0.962126</td>\n",
       "      <td>2.27673</td>\n",
       "      <td>2.08917</td>\n",
       "      <td>4.02532</td>\n",
       "      <td>8.817950</td>\n",
       "      <td>8.154875</td>\n",
       "      <td>0.167267</td>\n",
       "      <td>0.7867</td>\n",
       "    </tr>\n",
       "    <tr>\n",
       "      <th>2</th>\n",
       "      <td>233</td>\n",
       "      <td>0.331289</td>\n",
       "      <td>0.177230</td>\n",
       "      <td>1.87484</td>\n",
       "      <td>1.62701</td>\n",
       "      <td>3.03110</td>\n",
       "      <td>8.921718</td>\n",
       "      <td>7.437214</td>\n",
       "      <td>0.204242</td>\n",
       "      <td>1.6199</td>\n",
       "    </tr>\n",
       "    <tr>\n",
       "      <th>3</th>\n",
       "      <td>1018</td>\n",
       "      <td>1.364696</td>\n",
       "      <td>-0.098956</td>\n",
       "      <td>2.47534</td>\n",
       "      <td>2.32222</td>\n",
       "      <td>4.21751</td>\n",
       "      <td>9.022211</td>\n",
       "      <td>8.509536</td>\n",
       "      <td>0.267495</td>\n",
       "      <td>0.6125</td>\n",
       "    </tr>\n",
       "    <tr>\n",
       "      <th>4</th>\n",
       "      <td>1310</td>\n",
       "      <td>0.221552</td>\n",
       "      <td>-0.292485</td>\n",
       "      <td>1.70714</td>\n",
       "      <td>1.28728</td>\n",
       "      <td>3.62220</td>\n",
       "      <td>9.249395</td>\n",
       "      <td>7.137750</td>\n",
       "      <td>0.057662</td>\n",
       "      <td>2.7563</td>\n",
       "    </tr>\n",
       "  </tbody>\n",
       "</table>\n",
       "</div>"
      ],
      "text/plain": [
       "     ID        RA       DEC      tau  tau_lim_lo  tau_lim_hi  \\\n",
       "0    70  2.169302  1.238649  1.99550     1.53265     3.72459   \n",
       "1    98  1.091028  0.962126  2.27673     2.08917     4.02532   \n",
       "2   233  0.331289  0.177230  1.87484     1.62701     3.03110   \n",
       "3  1018  1.364696 -0.098956  2.47534     2.32222     4.21751   \n",
       "4  1310  0.221552 -0.292485  1.70714     1.28728     3.62220   \n",
       "\n",
       "   Mass_ground_truth     M_tau       ERR       z  \n",
       "0           7.523331  7.652679  1.523093  1.0730  \n",
       "1           8.817950  8.154875  0.167267  0.7867  \n",
       "2           8.921718  7.437214  0.204242  1.6199  \n",
       "3           9.022211  8.509536  0.267495  0.6125  \n",
       "4           9.249395  7.137750  0.057662  2.7563  "
      ]
     },
     "execution_count": 3,
     "metadata": {},
     "output_type": "execute_result"
    }
   ],
   "source": [
    "# open data\n",
    "df = pd.read_csv('/Users/SnehPandya/Desktop/DeepLearningAGN/data/tau_fulldata_matched.csv',index_col = 0)\n",
    "df.head()"
   ]
  },
  {
   "cell_type": "code",
   "execution_count": 4,
   "metadata": {},
   "outputs": [
    {
     "data": {
      "text/html": [
       "<div>\n",
       "<style scoped>\n",
       "    .dataframe tbody tr th:only-of-type {\n",
       "        vertical-align: middle;\n",
       "    }\n",
       "\n",
       "    .dataframe tbody tr th {\n",
       "        vertical-align: top;\n",
       "    }\n",
       "\n",
       "    .dataframe thead th {\n",
       "        text-align: right;\n",
       "    }\n",
       "</style>\n",
       "<table border=\"1\" class=\"dataframe\">\n",
       "  <thead>\n",
       "    <tr style=\"text-align: right;\">\n",
       "      <th></th>\n",
       "      <th>tau</th>\n",
       "      <th>Mass_ground_truth</th>\n",
       "    </tr>\n",
       "  </thead>\n",
       "  <tbody>\n",
       "    <tr>\n",
       "      <th>0</th>\n",
       "      <td>1.99550</td>\n",
       "      <td>7.523331</td>\n",
       "    </tr>\n",
       "    <tr>\n",
       "      <th>1</th>\n",
       "      <td>2.27673</td>\n",
       "      <td>8.817950</td>\n",
       "    </tr>\n",
       "    <tr>\n",
       "      <th>2</th>\n",
       "      <td>1.87484</td>\n",
       "      <td>8.921718</td>\n",
       "    </tr>\n",
       "    <tr>\n",
       "      <th>3</th>\n",
       "      <td>2.47534</td>\n",
       "      <td>9.022211</td>\n",
       "    </tr>\n",
       "    <tr>\n",
       "      <th>4</th>\n",
       "      <td>1.70714</td>\n",
       "      <td>9.249395</td>\n",
       "    </tr>\n",
       "  </tbody>\n",
       "</table>\n",
       "</div>"
      ],
      "text/plain": [
       "       tau  Mass_ground_truth\n",
       "0  1.99550           7.523331\n",
       "1  2.27673           8.817950\n",
       "2  1.87484           8.921718\n",
       "3  2.47534           9.022211\n",
       "4  1.70714           9.249395"
      ]
     },
     "execution_count": 4,
     "metadata": {},
     "output_type": "execute_result"
    }
   ],
   "source": [
    "# remove unnecesary columns\n",
    "df = df.drop(columns = ['ID','z', 'ERR', 'RA','DEC','tau_lim_lo','tau_lim_hi','M_tau'] )\n",
    "df.head()"
   ]
  },
  {
   "cell_type": "code",
   "execution_count": 5,
   "metadata": {},
   "outputs": [
    {
     "data": {
      "text/plain": [
       "array([[ 1.9955    ,  7.52333061],\n",
       "       [ 2.27673   ,  8.81795034],\n",
       "       [ 1.87484   ,  8.92171817],\n",
       "       ..., \n",
       "       [ 2.72286   ,  8.45017379],\n",
       "       [ 2.09733   ,  8.02155865],\n",
       "       [ 2.99667   ,  8.98848251]])"
      ]
     },
     "execution_count": 5,
     "metadata": {},
     "output_type": "execute_result"
    }
   ],
   "source": [
    "# convert to numpy array\n",
    "array = df.to_numpy()\n",
    "array"
   ]
  },
  {
   "cell_type": "code",
   "execution_count": 6,
   "metadata": {},
   "outputs": [
    {
     "name": "stdout",
     "output_type": "stream",
     "text": [
      "[[ 1.9955 ]\n",
      " [ 2.27673]\n",
      " [ 1.87484]\n",
      " ..., \n",
      " [ 2.72286]\n",
      " [ 2.09733]\n",
      " [ 2.99667]]\n",
      "[ 7.52333061  8.81795034  8.92171817 ...,  8.45017379  8.02155865\n",
      "  8.98848251]\n"
     ]
    }
   ],
   "source": [
    "# isolate attributes and targets\n",
    "tau_array = array[:,0].reshape(-1,1)\n",
    "mass_array = array[:,1]\n",
    "print(tau_array)\n",
    "print(mass_array)"
   ]
  },
  {
   "cell_type": "code",
   "execution_count": 12,
   "metadata": {
    "collapsed": true
   },
   "outputs": [],
   "source": [
    "#split train and test set (X -> tau, y -> mass)\n",
    "X_train, X_test, y_train, y_test = train_test_split(tau_array, mass_array, test_size=0.2, random_state=0)"
   ]
  },
  {
   "cell_type": "code",
   "execution_count": 13,
   "metadata": {},
   "outputs": [
    {
     "data": {
      "text/plain": [
       "LinearRegression(copy_X=True, fit_intercept=True, n_jobs=None, normalize=False)"
      ]
     },
     "execution_count": 13,
     "metadata": {},
     "output_type": "execute_result"
    }
   ],
   "source": [
    "#define regression and train it\n",
    "regressor = LinearRegression()\n",
    "regressor.fit(X_test,y_test)"
   ]
  },
  {
   "cell_type": "code",
   "execution_count": 14,
   "metadata": {},
   "outputs": [
    {
     "name": "stdout",
     "output_type": "stream",
     "text": [
      "8.77757319193\n",
      "[ 0.03491042]\n",
      "0.00229191487823\n"
     ]
    }
   ],
   "source": [
    "# retrieve line of best fit attributes\n",
    "print(regressor.intercept_) # y-intercept (b)\n",
    "print(regressor.coef_) # slope (m)\n",
    "print(regressor.score(X_test,y_test)) #(r^2 score)"
   ]
  },
  {
   "cell_type": "code",
   "execution_count": 15,
   "metadata": {
    "collapsed": true
   },
   "outputs": [],
   "source": [
    "# apply regression on test set\n",
    "y_pred_test = regressor.predict(X_test)\n",
    "y_pred_train = regressor.predict(X_train)\n",
    "# Y = .0735*X + 8.6749"
   ]
  },
  {
   "cell_type": "code",
   "execution_count": 16,
   "metadata": {},
   "outputs": [
    {
     "data": {
      "image/png": "[encoded data removed]",
      "text/plain": [
       "<matplotlib.figure.Figure at 0x107c09908>"
      ]
     },
     "metadata": {},
     "output_type": "display_data"
    }
   ],
   "source": [
    "# plotting\n",
    "plt.scatter(X_test, y_test,  color='gray',s=2)\n",
    "plt.plot(X_test, y_pred_test, color='red', linewidth=2)\n",
    "plt.xlabel('LOG(tau)')\n",
    "plt.ylabel('LOG(DR7_Mass/M_sun)')\n",
    "plt.title('LinReg fit (test set)')\n",
    "plt.show()"
   ]
  },
  {
   "cell_type": "code",
   "execution_count": 17,
   "metadata": {},
   "outputs": [
    {
     "data": {
      "image/png": "[encoded data removed]",
      "text/plain": [
       "<matplotlib.figure.Figure at 0x11b51b2b0>"
      ]
     },
     "metadata": {},
     "output_type": "display_data"
    }
   ],
   "source": [
    "plt.scatter(X_test, y_test,  color='gray',s=2)\n",
    "plt.scatter(X_train,y_train,color='gray',s=2)\n",
    "plt.plot(X_test, y_pred_test, color='blue', linewidth=2)\n",
    "plt.xlabel('LOG(tau)')\n",
    "plt.ylabel('LOG(DR7 Mass/M_sun)')\n",
    "plt.title('LinReg fit r^2=' + str(regressor.score(X_test,y_test))[0:9])\n",
    "plt.show()"
   ]
  },
  {
   "cell_type": "code",
   "execution_count": 19,
   "metadata": {},
   "outputs": [
    {
     "name": "stdout",
     "output_type": "stream",
     "text": [
      "Root Mean Squared Error: 0.483817804457\n"
     ]
    }
   ],
   "source": [
    "# statistics\n",
    "print('Root Mean Squared Error:', np.sqrt(metrics.mean_squared_error(y_test, y_pred_test)))"
   ]
  },
  {
   "cell_type": "code",
   "execution_count": null,
   "metadata": {
    "collapsed": true
   },
   "outputs": [],
   "source": []
  }
 ],
 "metadata": {
  "kernelspec": {
   "display_name": "Python 3",
   "language": "python",
   "name": "python3"
  },
  "language_info": {
   "codemirror_mode": {
    "name": "ipython",
    "version": 3
   },
   "file_extension": ".py",
   "mimetype": "text/x-python",
   "name": "python",
   "nbconvert_exporter": "python",
   "pygments_lexer": "ipython3",
   "version": "3.6.2"
  }
 },
 "nbformat": 4,
 "nbformat_minor": 2
}
