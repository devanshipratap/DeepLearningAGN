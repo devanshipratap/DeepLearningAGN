{
 "cells": [
  {
   "cell_type": "code",
   "execution_count": 3,
   "metadata": {},
   "outputs": [],
   "source": [
    "\"\"\"\n",
    "Plot a 2d version of an arbitrary Light Curve from Stripe 82 data\n",
    "Information on data columns found at:\n",
    "http://faculty.washington.edu/ivezic/macleod/qso_dr7/Southern_format_LC.html\n",
    "\"\"\"\n",
    "import pandas as pd\n",
    "import seaborn as sns\n",
    "import matplotlib.pyplot as plt\n",
    "import numpy as np\n",
    "# from skimage.transform import resize"
   ]
  },
  {
   "cell_type": "code",
   "execution_count": 10,
   "metadata": {
    "collapsed": true
   },
   "outputs": [],
   "source": [
    "def plot_2d_light_curve(file_path):\n",
    "    \"\"\"\n",
    "    Plot a 2d light curve image\n",
    "    \"\"\"\n",
    "\n",
    "    # Opening a light curve file\n",
    "    with open(file_path, 'r') as f:\n",
    "        next(f)\n",
    "        df = pd.DataFrame(l.rstrip().split() for l in f)\n",
    "\n",
    "    # Converting string to numeric\n",
    "    for i in range(15):\n",
    "        df[i] = pd.to_numeric(df[i])\n",
    "\n",
    "    # Cleaning unphysical magnitudes\n",
    "    df_u = df[df[1] > 1]\n",
    "    df_g = df[df[4] > 1]\n",
    "    df_r = df[df[7] > 1]\n",
    "    df_i = df[df[10] > 1]\n",
    "    df_z = df[df[13] > 1]\n",
    "\n",
    "    # Gather the 5 band data and set mjd init == 0\n",
    "    u_data = round(df_u[0]) - round(df_u[0].iloc[0])\n",
    "    g_data = round(df_g[3]) - round(df_g[3].iloc[0])\n",
    "    r_data = round(df_r[6]) - round(df_r[6].iloc[0])\n",
    "    i_data = round(df_i[9]) - round(df_i[9].iloc[0])\n",
    "    z_data = round(df_z[12]) - round(df_z[12].iloc[0])\n",
    "    \n",
    "    # Convert 5-band data into 5 (bands) x 3340 (days) image data\n",
    "    Images = np.zeros((5, 3340))\n",
    "\n",
    "    for i, day in enumerate(u_data):\n",
    "        Images[0, int(day)] += df_u[1].iloc[i]\n",
    "\n",
    "    for i, day in enumerate(g_data):\n",
    "        Images[1, int(day)] += df_g[4].iloc[i]\n",
    "\n",
    "    for i, day in enumerate(r_data):\n",
    "        Images[2, int(day)] += df_r[7].iloc[i]\n",
    "\n",
    "    for i, day in enumerate(i_data):\n",
    "        Images[3, int(day)] += df_i[10].iloc[i]\n",
    "\n",
    "    for i, day in enumerate(z_data):\n",
    "        Images[4, int(day)] += df_z[13].iloc[i]\n",
    "        \n",
    "    reshape_img = Images.reshape(167, 100)\n",
    "    \n",
    "\n",
    "    # Plotting\n",
    "    fig = plt.figure(figsize=(8, 5))\n",
    "    sns.set(font='Times New Roman')\n",
    "    sns.set_context('paper')\n",
    "    plt.imshow(reshape_img)\n",
    "    plt.colorbar()\n",
    "    plt.title('Resize with Interpolation', fontsize=15)\n",
    "    plt.show()\n"
   ]
  },
  {
   "cell_type": "code",
   "execution_count": 11,
   "metadata": {},
   "outputs": [
    {
     "data": {
      "image/png": "[encoded data removed]",
      "text/plain": [
       "<matplotlib.figure.Figure at 0x11e10dc50>"
      ]
     },
     "metadata": {},
     "output_type": "display_data"
    }
   ],
   "source": [
    "# Plot a 2d image of a light curve\n",
    "plot_2d_light_curve('/Users/SnehPandya/Desktop/Black_Hole_NN_2/raw_data/original_LC/70')"
   ]
  },
  {
   "cell_type": "code",
   "execution_count": null,
   "metadata": {
    "collapsed": true
   },
   "outputs": [],
   "source": []
  }
 ],
 "metadata": {
  "kernelspec": {
   "display_name": "Python 3",
   "language": "python",
   "name": "python3"
  },
  "language_info": {
   "codemirror_mode": {
    "name": "ipython",
    "version": 3
   },
   "file_extension": ".py",
   "mimetype": "text/x-python",
   "name": "python",
   "nbconvert_exporter": "python",
   "pygments_lexer": "ipython3",
   "version": "3.6.2"
  }
 },
 "nbformat": 4,
 "nbformat_minor": 2
}
