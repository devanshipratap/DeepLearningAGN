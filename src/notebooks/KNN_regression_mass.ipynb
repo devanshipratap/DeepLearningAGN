{
 "cells": [
  {
   "cell_type": "code",
   "execution_count": 602,
   "metadata": {
    "collapsed": true
   },
   "outputs": [],
   "source": [
    "## features - u_band, g_band, r_band, i_band, z_band, redshift\n",
    "## targets - BH Mass"
   ]
  },
  {
   "cell_type": "code",
   "execution_count": 603,
   "metadata": {
    "collapsed": true
   },
   "outputs": [],
   "source": [
    "# importing packages\n",
    "import pandas as pd\n",
    "import numpy as np\n",
    "import matplotlib.pyplot as plt\n",
    "from sklearn.model_selection import train_test_split\n",
    "from sklearn.preprocessing import StandardScaler\n",
    "from sklearn.neighbors import KNeighborsRegressor\n",
    "from sklearn.metrics import confusion_matrix\n",
    "from sklearn import metrics"
   ]
  },
  {
   "cell_type": "code",
   "execution_count": 604,
   "metadata": {},
   "outputs": [
    {
     "data": {
      "text/html": [
       "<div>\n",
       "<style scoped>\n",
       "    .dataframe tbody tr th:only-of-type {\n",
       "        vertical-align: middle;\n",
       "    }\n",
       "\n",
       "    .dataframe tbody tr th {\n",
       "        vertical-align: top;\n",
       "    }\n",
       "\n",
       "    .dataframe thead th {\n",
       "        text-align: right;\n",
       "    }\n",
       "</style>\n",
       "<table border=\"1\" class=\"dataframe\">\n",
       "  <thead>\n",
       "    <tr style=\"text-align: right;\">\n",
       "      <th></th>\n",
       "      <th>Mass_ground_truth</th>\n",
       "      <th>u_band</th>\n",
       "      <th>g_band</th>\n",
       "      <th>r_band</th>\n",
       "      <th>i_band</th>\n",
       "      <th>z_band</th>\n",
       "      <th>z</th>\n",
       "      <th>M_i</th>\n",
       "      <th>ug</th>\n",
       "      <th>gr</th>\n",
       "      <th>ri</th>\n",
       "      <th>iz</th>\n",
       "      <th>zu</th>\n",
       "    </tr>\n",
       "  </thead>\n",
       "  <tbody>\n",
       "    <tr>\n",
       "      <th>0</th>\n",
       "      <td>8.973414</td>\n",
       "      <td>18.982250</td>\n",
       "      <td>18.900643</td>\n",
       "      <td>18.596375</td>\n",
       "      <td>18.584750</td>\n",
       "      <td>18.720857</td>\n",
       "      <td>1.1875</td>\n",
       "      <td>-25.451</td>\n",
       "      <td>0.081607</td>\n",
       "      <td>0.304268</td>\n",
       "      <td>0.011625</td>\n",
       "      <td>-0.136107</td>\n",
       "      <td>-0.261393</td>\n",
       "    </tr>\n",
       "    <tr>\n",
       "      <th>1</th>\n",
       "      <td>8.445230</td>\n",
       "      <td>20.822754</td>\n",
       "      <td>20.706984</td>\n",
       "      <td>20.583098</td>\n",
       "      <td>20.400262</td>\n",
       "      <td>20.097541</td>\n",
       "      <td>2.0993</td>\n",
       "      <td>-25.290</td>\n",
       "      <td>0.115770</td>\n",
       "      <td>0.123885</td>\n",
       "      <td>0.182836</td>\n",
       "      <td>0.302721</td>\n",
       "      <td>-0.725213</td>\n",
       "    </tr>\n",
       "    <tr>\n",
       "      <th>2</th>\n",
       "      <td>8.844659</td>\n",
       "      <td>21.185649</td>\n",
       "      <td>20.891439</td>\n",
       "      <td>20.409386</td>\n",
       "      <td>20.336351</td>\n",
       "      <td>20.082965</td>\n",
       "      <td>1.1103</td>\n",
       "      <td>-23.982</td>\n",
       "      <td>0.294211</td>\n",
       "      <td>0.482053</td>\n",
       "      <td>0.073035</td>\n",
       "      <td>0.253386</td>\n",
       "      <td>-1.102684</td>\n",
       "    </tr>\n",
       "    <tr>\n",
       "      <th>3</th>\n",
       "      <td>8.051990</td>\n",
       "      <td>20.238111</td>\n",
       "      <td>19.877519</td>\n",
       "      <td>19.916019</td>\n",
       "      <td>19.845519</td>\n",
       "      <td>19.731352</td>\n",
       "      <td>0.6794</td>\n",
       "      <td>-23.246</td>\n",
       "      <td>0.360593</td>\n",
       "      <td>-0.038500</td>\n",
       "      <td>0.070500</td>\n",
       "      <td>0.114167</td>\n",
       "      <td>-0.506759</td>\n",
       "    </tr>\n",
       "    <tr>\n",
       "      <th>4</th>\n",
       "      <td>9.409361</td>\n",
       "      <td>17.895957</td>\n",
       "      <td>17.664872</td>\n",
       "      <td>17.407213</td>\n",
       "      <td>17.446128</td>\n",
       "      <td>17.437894</td>\n",
       "      <td>1.0459</td>\n",
       "      <td>-26.482</td>\n",
       "      <td>0.231085</td>\n",
       "      <td>0.257660</td>\n",
       "      <td>-0.038915</td>\n",
       "      <td>0.008234</td>\n",
       "      <td>-0.458064</td>\n",
       "    </tr>\n",
       "  </tbody>\n",
       "</table>\n",
       "</div>"
      ],
      "text/plain": [
       "   Mass_ground_truth     u_band     g_band     r_band     i_band     z_band  \\\n",
       "0           8.973414  18.982250  18.900643  18.596375  18.584750  18.720857   \n",
       "1           8.445230  20.822754  20.706984  20.583098  20.400262  20.097541   \n",
       "2           8.844659  21.185649  20.891439  20.409386  20.336351  20.082965   \n",
       "3           8.051990  20.238111  19.877519  19.916019  19.845519  19.731352   \n",
       "4           9.409361  17.895957  17.664872  17.407213  17.446128  17.437894   \n",
       "\n",
       "        z     M_i        ug        gr        ri        iz        zu  \n",
       "0  1.1875 -25.451  0.081607  0.304268  0.011625 -0.136107 -0.261393  \n",
       "1  2.0993 -25.290  0.115770  0.123885  0.182836  0.302721 -0.725213  \n",
       "2  1.1103 -23.982  0.294211  0.482053  0.073035  0.253386 -1.102684  \n",
       "3  0.6794 -23.246  0.360593 -0.038500  0.070500  0.114167 -0.506759  \n",
       "4  1.0459 -26.482  0.231085  0.257660 -0.038915  0.008234 -0.458064  "
      ]
     },
     "execution_count": 604,
     "metadata": {},
     "output_type": "execute_result"
    }
   ],
   "source": [
    "#reading data\n",
    "df = pd.read_csv('/Users/SnehPandya/Desktop/DeepLearningAGN/data/clean_full_data_absma2g.csv')\n",
    "df = df.drop(columns = ['RA', 'DEC', 'ID', 'ERR', 'M_g','M_r','M_z', 'M_u', 'Unnamed: 0','mu'])\n",
    "df['ug'] = df.apply(lambda row: row.u_band - row.g_band,axis=1)\n",
    "df['gr'] = df.apply(lambda row: row.g_band - row.r_band,axis=1)\n",
    "df['ri'] = df.apply(lambda row: row.r_band - row.i_band,axis=1)\n",
    "df['iz'] = df.apply(lambda row: row.i_band - row.z_band,axis=1)\n",
    "df['zu'] = df.apply(lambda row: row.z_band - row.u_band,axis=1)\n",
    "df.head()"
   ]
  },
  {
   "cell_type": "code",
   "execution_count": 605,
   "metadata": {
    "collapsed": true
   },
   "outputs": [],
   "source": [
    "# defining feature and target numpy arrays\n",
    "X = df.iloc[:, 1:8].values\n",
    "y = df.iloc[:,0].values"
   ]
  },
  {
   "cell_type": "code",
   "execution_count": 606,
   "metadata": {
    "collapsed": true
   },
   "outputs": [],
   "source": [
    "# # # train test split\n",
    "# test_size = .01\n",
    "# sc = StandardScaler()\n",
    "# n_neighbors = 30\n",
    "# while test_size < 1:\n",
    "# #     seed = np.random.seed()\n",
    "#     X_train, X_test, y_train, y_test = train_test_split(X, y, test_size = test_size, random_state = 1)\n",
    "#     X_train = sc.fit_transform(X_train)\n",
    "#     X_test = sc.transform(X_test)\n",
    "#     classifier = KNeighborsRegressor(n_neighbors = n_neighbors, weights = 'distance', p=3)\n",
    "#     classifier.fit(X_train, y_train)\n",
    "#     y_pred = classifier.predict(X_test)\n",
    "#     rmse = np.sqrt(metrics.mean_squared_error(y_test, y_pred))\n",
    "#     r2 = metrics.r2_score(y_test, y_pred)\n",
    "#     print(test_size,rmse,r2)\n",
    "#     test_size += .01"
   ]
  },
  {
   "cell_type": "code",
   "execution_count": 607,
   "metadata": {
    "collapsed": true
   },
   "outputs": [],
   "source": [
    "seed = np.random.seed()\n",
    "X_train, X_test, y_train, y_test = train_test_split(X, y, test_size = 0.15, random_state = seed)"
   ]
  },
  {
   "cell_type": "code",
   "execution_count": 608,
   "metadata": {},
   "outputs": [
    {
     "name": "stdout",
     "output_type": "stream",
     "text": [
      "(1372, 7)\n",
      "(1372,)\n"
     ]
    }
   ],
   "source": [
    "# normalizing features\n",
    "sc = StandardScaler()\n",
    "X_train = sc.fit_transform(X_train)\n",
    "X_test = sc.transform(X_test)\n",
    "print(X_test.shape)\n",
    "print(y_test.shape)"
   ]
  },
  {
   "cell_type": "code",
   "execution_count": 609,
   "metadata": {},
   "outputs": [
    {
     "data": {
      "text/plain": [
       "KNeighborsRegressor(algorithm='auto', leaf_size=30, metric='minkowski',\n",
       "                    metric_params=None, n_jobs=None, n_neighbors=30, p=3,\n",
       "                    weights='distance')"
      ]
     },
     "execution_count": 609,
     "metadata": {},
     "output_type": "execute_result"
    }
   ],
   "source": [
    "# KNN Regression Classifier\n",
    "# # K value of 6 chosen from Pasquet 2018, Euclidean distance metric, uniform weights\n",
    "n_neighbors = 30\n",
    "classifier = KNeighborsRegressor(n_neighbors = n_neighbors, weights = 'distance', p=3)\n",
    "classifier.fit(X_train, y_train)"
   ]
  },
  {
   "cell_type": "code",
   "execution_count": 610,
   "metadata": {
    "collapsed": true
   },
   "outputs": [],
   "source": [
    "# Fitting\n",
    "y_pred = classifier.predict(X_test)"
   ]
  },
  {
   "cell_type": "code",
   "execution_count": 611,
   "metadata": {},
   "outputs": [
    {
     "data": {
      "image/png": "[encoded data removed]",
      "text/plain": [
       "<matplotlib.figure.Figure at 0x10a5c59b0>"
      ]
     },
     "metadata": {},
     "output_type": "display_data"
    }
   ],
   "source": [
    "plt.plot(y_test, y_test, color = 'black', label = 'Mass ground truth')\n",
    "plt.scatter(y_test, y_pred, color = 'blue', s=2, label = 'KNN prediction')\n",
    "plt.xlabel('BH Mass')\n",
    "plt.ylabel('BH Mass')\n",
    "plt.legend()\n",
    "plt.title('KNN Regression Prediction')\n",
    "plt.show()"
   ]
  },
  {
   "cell_type": "code",
   "execution_count": 612,
   "metadata": {},
   "outputs": [
    {
     "name": "stdout",
     "output_type": "stream",
     "text": [
      "Root Mean Squared Error: 0.394857446026\n",
      "r2 score: 0.357617944409\n"
     ]
    }
   ],
   "source": [
    "print('Root Mean Squared Error:', np.sqrt(metrics.mean_squared_error(y_test, y_pred)))\n",
    "print('r2 score:', metrics.r2_score(y_test, y_pred))"
   ]
  },
  {
   "cell_type": "code",
   "execution_count": 613,
   "metadata": {
    "collapsed": true
   },
   "outputs": [],
   "source": [
    "# including color, ugriz bands, redshift, M_i : RMSE ~ .368, .378, .369, .378  (consistently .37)\n",
    "# including ugriz bands, redshift, M_i : RMSE ~ .383, .368, .372, .387\n",
    "# including color, redshift, M_i : RMSE ~ .392, .364, .354, .364\n",
    "# color helps a lot.  color vs color + ugriz bands perform about the same, color only slightly better"
   ]
  }
 ],
 "metadata": {
  "kernelspec": {
   "display_name": "Python 3",
   "language": "python",
   "name": "python3"
  },
  "language_info": {
   "codemirror_mode": {
    "name": "ipython",
    "version": 3
   },
   "file_extension": ".py",
   "mimetype": "text/x-python",
   "name": "python",
   "nbconvert_exporter": "python",
   "pygments_lexer": "ipython3",
   "version": "3.6.2"
  }
 },
 "nbformat": 4,
 "nbformat_minor": 2
}
