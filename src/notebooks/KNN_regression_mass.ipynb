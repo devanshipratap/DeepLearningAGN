{
 "cells": [
  {
   "cell_type": "code",
   "execution_count": 1,
   "metadata": {
    "collapsed": true
   },
   "outputs": [],
   "source": [
    "# importing packages\n",
    "import pandas as pd\n",
    "import numpy as np\n",
    "import matplotlib.pyplot as plt\n",
    "from sklearn.model_selection import train_test_split\n",
    "from sklearn.preprocessing import StandardScaler\n",
    "from sklearn.neighbors import KNeighborsRegressor\n",
    "from sklearn.metrics import confusion_matrix\n",
    "from sklearn import metrics"
   ]
  },
  {
   "cell_type": "code",
   "execution_count": 2,
   "metadata": {},
   "outputs": [
    {
     "data": {
      "text/html": [
       "<div>\n",
       "<style scoped>\n",
       "    .dataframe tbody tr th:only-of-type {\n",
       "        vertical-align: middle;\n",
       "    }\n",
       "\n",
       "    .dataframe tbody tr th {\n",
       "        vertical-align: top;\n",
       "    }\n",
       "\n",
       "    .dataframe thead th {\n",
       "        text-align: right;\n",
       "    }\n",
       "</style>\n",
       "<table border=\"1\" class=\"dataframe\">\n",
       "  <thead>\n",
       "    <tr style=\"text-align: right;\">\n",
       "      <th></th>\n",
       "      <th>Mass_ground_truth</th>\n",
       "      <th>u_band</th>\n",
       "      <th>g_band</th>\n",
       "      <th>r_band</th>\n",
       "      <th>i_band</th>\n",
       "      <th>z_band</th>\n",
       "      <th>z</th>\n",
       "      <th>M_i</th>\n",
       "      <th>ug</th>\n",
       "      <th>gr</th>\n",
       "      <th>ri</th>\n",
       "      <th>iz</th>\n",
       "      <th>zu</th>\n",
       "    </tr>\n",
       "  </thead>\n",
       "  <tbody>\n",
       "    <tr>\n",
       "      <th>0</th>\n",
       "      <td>8.973414</td>\n",
       "      <td>18.982250</td>\n",
       "      <td>18.900643</td>\n",
       "      <td>18.596375</td>\n",
       "      <td>18.584750</td>\n",
       "      <td>18.720857</td>\n",
       "      <td>1.1875</td>\n",
       "      <td>-25.451</td>\n",
       "      <td>0.081607</td>\n",
       "      <td>0.304268</td>\n",
       "      <td>0.011625</td>\n",
       "      <td>-0.136107</td>\n",
       "      <td>-0.261393</td>\n",
       "    </tr>\n",
       "    <tr>\n",
       "      <th>1</th>\n",
       "      <td>8.445230</td>\n",
       "      <td>20.822754</td>\n",
       "      <td>20.706984</td>\n",
       "      <td>20.583098</td>\n",
       "      <td>20.400262</td>\n",
       "      <td>20.097541</td>\n",
       "      <td>2.0993</td>\n",
       "      <td>-25.290</td>\n",
       "      <td>0.115770</td>\n",
       "      <td>0.123885</td>\n",
       "      <td>0.182836</td>\n",
       "      <td>0.302721</td>\n",
       "      <td>-0.725213</td>\n",
       "    </tr>\n",
       "    <tr>\n",
       "      <th>2</th>\n",
       "      <td>8.844659</td>\n",
       "      <td>21.185649</td>\n",
       "      <td>20.891439</td>\n",
       "      <td>20.409386</td>\n",
       "      <td>20.336351</td>\n",
       "      <td>20.082965</td>\n",
       "      <td>1.1103</td>\n",
       "      <td>-23.982</td>\n",
       "      <td>0.294211</td>\n",
       "      <td>0.482053</td>\n",
       "      <td>0.073035</td>\n",
       "      <td>0.253386</td>\n",
       "      <td>-1.102684</td>\n",
       "    </tr>\n",
       "    <tr>\n",
       "      <th>3</th>\n",
       "      <td>8.051990</td>\n",
       "      <td>20.238111</td>\n",
       "      <td>19.877519</td>\n",
       "      <td>19.916019</td>\n",
       "      <td>19.845519</td>\n",
       "      <td>19.731352</td>\n",
       "      <td>0.6794</td>\n",
       "      <td>-23.246</td>\n",
       "      <td>0.360593</td>\n",
       "      <td>-0.038500</td>\n",
       "      <td>0.070500</td>\n",
       "      <td>0.114167</td>\n",
       "      <td>-0.506759</td>\n",
       "    </tr>\n",
       "    <tr>\n",
       "      <th>4</th>\n",
       "      <td>9.409361</td>\n",
       "      <td>17.895957</td>\n",
       "      <td>17.664872</td>\n",
       "      <td>17.407213</td>\n",
       "      <td>17.446128</td>\n",
       "      <td>17.437894</td>\n",
       "      <td>1.0459</td>\n",
       "      <td>-26.482</td>\n",
       "      <td>0.231085</td>\n",
       "      <td>0.257660</td>\n",
       "      <td>-0.038915</td>\n",
       "      <td>0.008234</td>\n",
       "      <td>-0.458064</td>\n",
       "    </tr>\n",
       "  </tbody>\n",
       "</table>\n",
       "</div>"
      ],
      "text/plain": [
       "   Mass_ground_truth     u_band     g_band     r_band     i_band     z_band  \\\n",
       "0           8.973414  18.982250  18.900643  18.596375  18.584750  18.720857   \n",
       "1           8.445230  20.822754  20.706984  20.583098  20.400262  20.097541   \n",
       "2           8.844659  21.185649  20.891439  20.409386  20.336351  20.082965   \n",
       "3           8.051990  20.238111  19.877519  19.916019  19.845519  19.731352   \n",
       "4           9.409361  17.895957  17.664872  17.407213  17.446128  17.437894   \n",
       "\n",
       "        z     M_i        ug        gr        ri        iz        zu  \n",
       "0  1.1875 -25.451  0.081607  0.304268  0.011625 -0.136107 -0.261393  \n",
       "1  2.0993 -25.290  0.115770  0.123885  0.182836  0.302721 -0.725213  \n",
       "2  1.1103 -23.982  0.294211  0.482053  0.073035  0.253386 -1.102684  \n",
       "3  0.6794 -23.246  0.360593 -0.038500  0.070500  0.114167 -0.506759  \n",
       "4  1.0459 -26.482  0.231085  0.257660 -0.038915  0.008234 -0.458064  "
      ]
     },
     "execution_count": 2,
     "metadata": {},
     "output_type": "execute_result"
    }
   ],
   "source": [
    "#reading data\n",
    "df = pd.read_csv('/Users/SnehPandya/Desktop/DeepLearningAGN/data/clean_full_data_absma2g.csv')\n",
    "df = df.drop(columns = ['RA', 'DEC', 'ID', 'ERR', 'M_g','M_r','M_z', 'M_u', 'Unnamed: 0','mu'])\n",
    "df['ug'] = df.apply(lambda row: row.u_band - row.g_band,axis=1)\n",
    "df['gr'] = df.apply(lambda row: row.g_band - row.r_band,axis=1)\n",
    "df['ri'] = df.apply(lambda row: row.r_band - row.i_band,axis=1)\n",
    "df['iz'] = df.apply(lambda row: row.i_band - row.z_band,axis=1)\n",
    "df['zu'] = df.apply(lambda row: row.z_band - row.u_band,axis=1)\n",
    "df.head()"
   ]
  },
  {
   "cell_type": "code",
   "execution_count": 3,
   "metadata": {
    "collapsed": true
   },
   "outputs": [],
   "source": [
    "# defining feature and target numpy arrays\n",
    "X = df.iloc[:, 6:].values\n",
    "y = df.iloc[:,0].values"
   ]
  },
  {
   "cell_type": "code",
   "execution_count": 4,
   "metadata": {
    "collapsed": true
   },
   "outputs": [],
   "source": [
    "# # # train test split\n",
    "# test_size = .01\n",
    "# sc = StandardScaler()\n",
    "# n_neighbors = 30\n",
    "# while test_size < 1:\n",
    "# #     seed = np.random.seed()\n",
    "#     X_train, X_test, y_train, y_test = train_test_split(X, y, test_size = test_size, random_state = 1)\n",
    "#     X_train = sc.fit_transform(X_train)\n",
    "#     X_test = sc.transform(X_test)\n",
    "#     classifier = KNeighborsRegressor(n_neighbors = n_neighbors, weights = 'distance', p=3)\n",
    "#     classifier.fit(X_train, y_train)\n",
    "#     y_pred = classifier.predict(X_test)\n",
    "#     rmse = np.sqrt(metrics.mean_squared_error(y_test, y_pred))\n",
    "#     r2 = metrics.r2_score(y_test, y_pred)\n",
    "#     print(test_size,rmse,r2)\n",
    "#     test_size += .01"
   ]
  },
  {
   "cell_type": "code",
   "execution_count": 5,
   "metadata": {
    "collapsed": true
   },
   "outputs": [],
   "source": [
    "seed = np.random.seed()\n",
    "X_train, X_test, y_train, y_test = train_test_split(X, y, test_size = 0.15, random_state = seed)"
   ]
  },
  {
   "cell_type": "code",
   "execution_count": 6,
   "metadata": {},
   "outputs": [
    {
     "name": "stdout",
     "output_type": "stream",
     "text": [
      "(1372, 7)\n",
      "(1372,)\n"
     ]
    }
   ],
   "source": [
    "# normalizing features\n",
    "sc = StandardScaler()\n",
    "X_train = sc.fit_transform(X_train)\n",
    "X_test = sc.transform(X_test)\n",
    "print(X_test.shape)\n",
    "print(y_test.shape)"
   ]
  },
  {
   "cell_type": "code",
   "execution_count": 7,
   "metadata": {},
   "outputs": [
    {
     "data": {
      "text/plain": [
       "KNeighborsRegressor(algorithm='auto', leaf_size=30, metric='minkowski',\n",
       "                    metric_params=None, n_jobs=None, n_neighbors=30, p=3,\n",
       "                    weights='distance')"
      ]
     },
     "execution_count": 7,
     "metadata": {},
     "output_type": "execute_result"
    }
   ],
   "source": [
    "# KNN Regression Classifier\n",
    "# # K value of 6 chosen from Pasquet 2018, Euclidean distance metric, uniform weights\n",
    "n_neighbors = 30\n",
    "classifier = KNeighborsRegressor(n_neighbors = n_neighbors, weights = 'distance', p=3)\n",
    "classifier.fit(X_train, y_train)"
   ]
  },
  {
   "cell_type": "code",
   "execution_count": 8,
   "metadata": {
    "collapsed": true
   },
   "outputs": [],
   "source": [
    "# Fitting\n",
    "y_pred = classifier.predict(X_test)"
   ]
  },
  {
   "cell_type": "code",
   "execution_count": 9,
   "metadata": {},
   "outputs": [
    {
     "data": {
      "image/png": "[encoded data removed]",
      "text/plain": [
       "<matplotlib.figure.Figure at 0x11a51f898>"
      ]
     },
     "metadata": {},
     "output_type": "display_data"
    }
   ],
   "source": [
    "plt.plot(y_test, y_test, color = 'black', label = 'Mass ground truth')\n",
    "plt.scatter(y_test, y_pred, color = 'blue', s=2, label = 'KNN prediction')\n",
    "plt.xlabel('BH Mass')\n",
    "plt.ylabel('BH Mass')\n",
    "plt.legend()\n",
    "plt.title('KNN Regression Prediction')\n",
    "plt.show()"
   ]
  },
  {
   "cell_type": "code",
   "execution_count": 10,
   "metadata": {},
   "outputs": [
    {
     "name": "stdout",
     "output_type": "stream",
     "text": [
      "Root Mean Squared Error: 0.3610173930133708\n",
      "r2 score: 0.41688079522155264\n"
     ]
    }
   ],
   "source": [
    "print('Root Mean Squared Error:', np.sqrt(metrics.mean_squared_error(y_test, y_pred)))\n",
    "print('r2 score:', metrics.r2_score(y_test, y_pred))"
   ]
  },
  {
   "cell_type": "code",
   "execution_count": 33,
   "metadata": {},
   "outputs": [
    {
     "name": "stdout",
     "output_type": "stream",
     "text": [
      "[[-0.70325762 -0.04797356 -0.16318621 ... -1.2468173  -1.10062795\n",
      "   0.38718993]\n",
      " [ 0.73876833 -1.50302693 -0.32197611 ... -0.34042273  0.99562745\n",
      "   0.24687931]\n",
      " [ 0.87899034 -1.69340036  0.00838734 ... -0.6148538   0.61474263\n",
      "   0.21129948]\n",
      " ...\n",
      " [-1.40741899  1.95055251 -0.36880835 ...  0.77812381  0.29949707\n",
      "   0.41455581]\n",
      " [ 0.4396003  -0.18858132 -0.62846125 ...  0.4722281  -0.50500898\n",
      "   0.66052341]\n",
      " [-0.09507413  0.28932709 -0.22693984 ...  0.78543732 -0.08679495\n",
      "  -0.19330504]]\n"
     ]
    }
   ],
   "source": [
    "print(X_test)"
   ]
  },
  {
   "cell_type": "code",
   "execution_count": 29,
   "metadata": {},
   "outputs": [
    {
     "ename": "IndexError",
     "evalue": "too many indices for array: array is 1-dimensional, but 2 were indexed",
     "output_type": "error",
     "traceback": [
      "\u001b[0;31m---------------------------------------------------------------------------\u001b[0m",
      "\u001b[0;31mIndexError\u001b[0m                                Traceback (most recent call last)",
      "\u001b[0;32m<ipython-input-29-a9f545c7f50c>\u001b[0m in \u001b[0;36m<module>\u001b[0;34m()\u001b[0m\n\u001b[1;32m      1\u001b[0m \u001b[0mplt\u001b[0m\u001b[0;34m.\u001b[0m\u001b[0mscatter\u001b[0m\u001b[0;34m(\u001b[0m\u001b[0mX_test\u001b[0m\u001b[0;34m[\u001b[0m\u001b[0;34m:\u001b[0m\u001b[0;34m,\u001b[0m\u001b[0;36m0\u001b[0m\u001b[0;34m]\u001b[0m\u001b[0;34m,\u001b[0m \u001b[0my_pred\u001b[0m\u001b[0;34m,\u001b[0m \u001b[0mcolor\u001b[0m \u001b[0;34m=\u001b[0m \u001b[0;34m'black'\u001b[0m\u001b[0;34m,\u001b[0m \u001b[0mlabel\u001b[0m \u001b[0;34m=\u001b[0m \u001b[0;34m'Mass ground truth'\u001b[0m\u001b[0;34m)\u001b[0m\u001b[0;34m\u001b[0m\u001b[0m\n\u001b[0;32m----> 2\u001b[0;31m \u001b[0mplt\u001b[0m\u001b[0;34m.\u001b[0m\u001b[0mscatter\u001b[0m\u001b[0;34m(\u001b[0m\u001b[0mX_test\u001b[0m\u001b[0;34m[\u001b[0m\u001b[0;34m:\u001b[0m\u001b[0;34m,\u001b[0m\u001b[0;36m0\u001b[0m\u001b[0;34m]\u001b[0m\u001b[0;34m,\u001b[0m \u001b[0my_test\u001b[0m\u001b[0;34m[\u001b[0m\u001b[0;34m:\u001b[0m\u001b[0;34m,\u001b[0m\u001b[0;36m0\u001b[0m\u001b[0;34m]\u001b[0m \u001b[0;34m,\u001b[0m \u001b[0mcolor\u001b[0m \u001b[0;34m=\u001b[0m \u001b[0;34m'blue'\u001b[0m\u001b[0;34m,\u001b[0m \u001b[0ms\u001b[0m\u001b[0;34m=\u001b[0m\u001b[0;36m2\u001b[0m\u001b[0;34m,\u001b[0m \u001b[0mlabel\u001b[0m \u001b[0;34m=\u001b[0m \u001b[0;34m'KNN prediction'\u001b[0m\u001b[0;34m)\u001b[0m\u001b[0;34m\u001b[0m\u001b[0m\n\u001b[0m\u001b[1;32m      3\u001b[0m \u001b[0mplt\u001b[0m\u001b[0;34m.\u001b[0m\u001b[0mxlabel\u001b[0m\u001b[0;34m(\u001b[0m\u001b[0;34m'BH Mass'\u001b[0m\u001b[0;34m)\u001b[0m\u001b[0;34m\u001b[0m\u001b[0m\n\u001b[1;32m      4\u001b[0m \u001b[0mplt\u001b[0m\u001b[0;34m.\u001b[0m\u001b[0mylabel\u001b[0m\u001b[0;34m(\u001b[0m\u001b[0;34m'BH Mass'\u001b[0m\u001b[0;34m)\u001b[0m\u001b[0;34m\u001b[0m\u001b[0m\n\u001b[1;32m      5\u001b[0m \u001b[0mplt\u001b[0m\u001b[0;34m.\u001b[0m\u001b[0mlegend\u001b[0m\u001b[0;34m(\u001b[0m\u001b[0;34m)\u001b[0m\u001b[0;34m\u001b[0m\u001b[0m\n",
      "\u001b[0;31mIndexError\u001b[0m: too many indices for array: array is 1-dimensional, but 2 were indexed"
     ]
    }
   ],
   "source": [
    "plt.scatter(X_test[:,0], y_pred, color = 'black', label = 'Mass ground truth')\n",
    "plt.scatter(X_test[:,0], y_test[:,0] , color = 'blue', s=2, label = 'KNN prediction')\n",
    "plt.xlabel('BH Mass')\n",
    "plt.ylabel('BH Mass')\n",
    "plt.legend()\n",
    "plt.title('KNN Regression Prediction')\n",
    "plt.show()"
   ]
  },
  {
   "cell_type": "code",
   "execution_count": 613,
   "metadata": {
    "collapsed": true
   },
   "outputs": [],
   "source": [
    "# including color, ugriz bands, redshift, M_i : RMSE ~ .368, .378, .369, .378  (consistently .37)\n",
    "# including ugriz bands, redshift, M_i : RMSE ~ .383, .368, .372, .387\n",
    "# including color, redshift, M_i : RMSE ~ .392, .364, .354, .364\n",
    "# color helps a lot.  color vs color + ugriz bands perform about the same, color only slightly better"
   ]
  }
 ],
 "metadata": {
  "kernelspec": {
   "display_name": "Python 3",
   "language": "python",
   "name": "python3"
  },
  "language_info": {
   "codemirror_mode": {
    "name": "ipython",
    "version": 3
   },
   "file_extension": ".py",
   "mimetype": "text/x-python",
   "name": "python",
   "nbconvert_exporter": "python",
   "pygments_lexer": "ipython3",
   "version": "3.6.2"
  }
 },
 "nbformat": 4,
 "nbformat_minor": 2
}
