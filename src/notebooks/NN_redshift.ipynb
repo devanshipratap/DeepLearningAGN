{
 "cells": [
  {
   "cell_type": "code",
   "execution_count": 1,
   "metadata": {
    "collapsed": true
   },
   "outputs": [],
   "source": [
    "# importing packages\n",
    "%matplotlib inline\n",
    "import pandas as pd\n",
    "import numpy as np\n",
    "import matplotlib.pyplot as plt\n",
    "from sklearn.model_selection import train_test_split\n",
    "from sklearn.preprocessing import StandardScaler\n",
    "from sklearn import metrics\n",
    "import torch\n",
    "import torch.nn as nn \n",
    "import torch.nn.functional as F\n",
    "from torch.autograd import Variable\n",
    "import torch.optim as optim\n",
    "from torch.utils.data import TensorDataset, DataLoader"
   ]
  },
  {
   "cell_type": "code",
   "execution_count": 2,
   "metadata": {},
   "outputs": [
    {
     "data": {
      "text/html": [
       "<div>\n",
       "<style scoped>\n",
       "    .dataframe tbody tr th:only-of-type {\n",
       "        vertical-align: middle;\n",
       "    }\n",
       "\n",
       "    .dataframe tbody tr th {\n",
       "        vertical-align: top;\n",
       "    }\n",
       "\n",
       "    .dataframe thead th {\n",
       "        text-align: right;\n",
       "    }\n",
       "</style>\n",
       "<table border=\"1\" class=\"dataframe\">\n",
       "  <thead>\n",
       "    <tr style=\"text-align: right;\">\n",
       "      <th></th>\n",
       "      <th>Mass_ground_truth</th>\n",
       "      <th>u_band</th>\n",
       "      <th>g_band</th>\n",
       "      <th>r_band</th>\n",
       "      <th>i_band</th>\n",
       "      <th>z_band</th>\n",
       "      <th>z</th>\n",
       "      <th>M_i</th>\n",
       "      <th>ug</th>\n",
       "      <th>gr</th>\n",
       "      <th>ri</th>\n",
       "      <th>iz</th>\n",
       "      <th>zu</th>\n",
       "    </tr>\n",
       "  </thead>\n",
       "  <tbody>\n",
       "    <tr>\n",
       "      <th>0</th>\n",
       "      <td>8.973414</td>\n",
       "      <td>18.982250</td>\n",
       "      <td>18.900643</td>\n",
       "      <td>18.596375</td>\n",
       "      <td>18.584750</td>\n",
       "      <td>18.720857</td>\n",
       "      <td>1.1875</td>\n",
       "      <td>-25.451</td>\n",
       "      <td>0.081607</td>\n",
       "      <td>0.304268</td>\n",
       "      <td>0.011625</td>\n",
       "      <td>-0.136107</td>\n",
       "      <td>-0.261393</td>\n",
       "    </tr>\n",
       "    <tr>\n",
       "      <th>1</th>\n",
       "      <td>8.445230</td>\n",
       "      <td>20.822754</td>\n",
       "      <td>20.706984</td>\n",
       "      <td>20.583098</td>\n",
       "      <td>20.400262</td>\n",
       "      <td>20.097541</td>\n",
       "      <td>2.0993</td>\n",
       "      <td>-25.290</td>\n",
       "      <td>0.115770</td>\n",
       "      <td>0.123885</td>\n",
       "      <td>0.182836</td>\n",
       "      <td>0.302721</td>\n",
       "      <td>-0.725213</td>\n",
       "    </tr>\n",
       "    <tr>\n",
       "      <th>2</th>\n",
       "      <td>8.844659</td>\n",
       "      <td>21.185649</td>\n",
       "      <td>20.891439</td>\n",
       "      <td>20.409386</td>\n",
       "      <td>20.336351</td>\n",
       "      <td>20.082965</td>\n",
       "      <td>1.1103</td>\n",
       "      <td>-23.982</td>\n",
       "      <td>0.294211</td>\n",
       "      <td>0.482053</td>\n",
       "      <td>0.073035</td>\n",
       "      <td>0.253386</td>\n",
       "      <td>-1.102684</td>\n",
       "    </tr>\n",
       "    <tr>\n",
       "      <th>3</th>\n",
       "      <td>8.051990</td>\n",
       "      <td>20.238111</td>\n",
       "      <td>19.877519</td>\n",
       "      <td>19.916019</td>\n",
       "      <td>19.845519</td>\n",
       "      <td>19.731352</td>\n",
       "      <td>0.6794</td>\n",
       "      <td>-23.246</td>\n",
       "      <td>0.360593</td>\n",
       "      <td>-0.038500</td>\n",
       "      <td>0.070500</td>\n",
       "      <td>0.114167</td>\n",
       "      <td>-0.506759</td>\n",
       "    </tr>\n",
       "    <tr>\n",
       "      <th>4</th>\n",
       "      <td>9.409361</td>\n",
       "      <td>17.895957</td>\n",
       "      <td>17.664872</td>\n",
       "      <td>17.407213</td>\n",
       "      <td>17.446128</td>\n",
       "      <td>17.437894</td>\n",
       "      <td>1.0459</td>\n",
       "      <td>-26.482</td>\n",
       "      <td>0.231085</td>\n",
       "      <td>0.257660</td>\n",
       "      <td>-0.038915</td>\n",
       "      <td>0.008234</td>\n",
       "      <td>-0.458064</td>\n",
       "    </tr>\n",
       "  </tbody>\n",
       "</table>\n",
       "</div>"
      ],
      "text/plain": [
       "   Mass_ground_truth     u_band     g_band     r_band     i_band     z_band  \\\n",
       "0           8.973414  18.982250  18.900643  18.596375  18.584750  18.720857   \n",
       "1           8.445230  20.822754  20.706984  20.583098  20.400262  20.097541   \n",
       "2           8.844659  21.185649  20.891439  20.409386  20.336351  20.082965   \n",
       "3           8.051990  20.238111  19.877519  19.916019  19.845519  19.731352   \n",
       "4           9.409361  17.895957  17.664872  17.407213  17.446128  17.437894   \n",
       "\n",
       "        z     M_i        ug        gr        ri        iz        zu  \n",
       "0  1.1875 -25.451  0.081607  0.304268  0.011625 -0.136107 -0.261393  \n",
       "1  2.0993 -25.290  0.115770  0.123885  0.182836  0.302721 -0.725213  \n",
       "2  1.1103 -23.982  0.294211  0.482053  0.073035  0.253386 -1.102684  \n",
       "3  0.6794 -23.246  0.360593 -0.038500  0.070500  0.114167 -0.506759  \n",
       "4  1.0459 -26.482  0.231085  0.257660 -0.038915  0.008234 -0.458064  "
      ]
     },
     "execution_count": 2,
     "metadata": {},
     "output_type": "execute_result"
    }
   ],
   "source": [
    "# load data + generate colors\n",
    "seed = np.random.seed()\n",
    "df = pd.read_csv('/Users/SnehPandya/Desktop/DeepLearningAGN/data/clean_full_data_absma2g.csv')\n",
    "df = df.drop(columns = ['RA', 'DEC', 'ID', 'ERR', 'M_g','M_r','M_z', 'M_u', 'Unnamed: 0','mu'])\n",
    "df['ug'] = df.apply(lambda row: row.u_band - row.g_band,axis=1)\n",
    "df['gr'] = df.apply(lambda row: row.g_band - row.r_band,axis=1)\n",
    "df['ri'] = df.apply(lambda row: row.r_band - row.i_band,axis=1)\n",
    "df['iz'] = df.apply(lambda row: row.i_band - row.z_band,axis=1)\n",
    "df['zu'] = df.apply(lambda row: row.z_band - row.u_band,axis=1)\n",
    "df.head()"
   ]
  },
  {
   "cell_type": "code",
   "execution_count": 3,
   "metadata": {},
   "outputs": [],
   "source": [
    "# define feature and target numpy arrays, do train and test split\n",
    "X = df.iloc[:, 7:].values\n",
    "y = df.iloc[:,6].values\n",
    "X = X.astype(np.float32)\n",
    "sc = StandardScaler()\n",
    "X_train, X_test, y_train, y_test = train_test_split(X, y, test_size = 0.15, random_state = seed)\n",
    "X_train = sc.fit_transform(X_train)\n",
    "X_test = sc.transform(X_test)\n",
    "X_train_t = torch.from_numpy(X_train)\n",
    "y_train_t = torch.from_numpy(y_train)\n",
    "X_test_t = torch.from_numpy(X_test)\n",
    "y_test_t = torch.from_numpy(y_test)"
   ]
  },
  {
   "cell_type": "code",
   "execution_count": 4,
   "metadata": {},
   "outputs": [],
   "source": [
    "# define train and test dataset, consolidate tensors\n",
    "train_ds = TensorDataset(X_train_t,y_train_t)\n",
    "test_ds = TensorDataset(X_test_t, y_test_t)"
   ]
  },
  {
   "cell_type": "code",
   "execution_count": 5,
   "metadata": {
    "collapsed": true
   },
   "outputs": [],
   "source": [
    "# define train data loader -- does dtype conversion\n",
    "batch_size = 5\n",
    "train_dl = DataLoader(train_ds, batch_size, shuffle=True)"
   ]
  },
  {
   "cell_type": "code",
   "execution_count": 6,
   "metadata": {},
   "outputs": [],
   "source": [
    "class Net(nn.Module):\n",
    "    def __init__(self):\n",
    "        super().__init__()\n",
    "        self.fc1 = nn.Linear(6, 64)\n",
    "        self.fc2 = nn.Linear(64, 64)\n",
    "        self.fc3 = nn.Linear(64, 64)\n",
    "        self.fc4 = nn.Linear(64, 1)\n",
    "\n",
    "    def forward(self, x):\n",
    "        x = F.relu(self.fc1(x.float()))\n",
    "        x = F.relu(self.fc2(x.float()))\n",
    "        x = F.relu(self.fc3(x.float()))\n",
    "        x = self.fc4(x.float())\n",
    "        return x\n",
    "\n",
    "net = Net()"
   ]
  },
  {
   "cell_type": "code",
   "execution_count": 11,
   "metadata": {
    "collapsed": true
   },
   "outputs": [],
   "source": [
    "optimizer = optim.Adam(net.parameters(), lr=0.001)\n",
    "loss_function = F.mse_loss"
   ]
  },
  {
   "cell_type": "code",
   "execution_count": 12,
   "metadata": {},
   "outputs": [],
   "source": [
    "def fit(num_epochs, model, loss_fn, optimizer):\n",
    "    for epoch in range(num_epochs): # full passes over the data\n",
    "        for data in train_ds:  # `data` is a batch of data\n",
    "            X, y = data  # X is the batch of features, y is the batch of targets.\n",
    "            net.zero_grad()  # sets gradients to 0 before loss calc. You will do this likely every step.\n",
    "            output = net(X.float())  # pass in the reshaped batch (recall they are 28x28 atm)\n",
    "            loss = loss_fn(output, y.float()) # calc and grab the loss value\n",
    "            loss.backward()  # apply this loss backwards thru the network's parameters\n",
    "            optimizer.step()  # attempt to optimize weights to account for loss/gradients\n",
    "        print(loss)"
   ]
  },
  {
   "cell_type": "code",
   "execution_count": 13,
   "metadata": {},
   "outputs": [
    {
     "name": "stderr",
     "output_type": "stream",
     "text": [
      "/anaconda3/lib/python3.6/site-packages/ipykernel_launcher.py:7: UserWarning: Using a target size (torch.Size([])) that is different to the input size (torch.Size([1])). This will likely lead to incorrect results due to broadcasting. Please ensure they have the same size.\n",
      "  import sys\n"
     ]
    },
    {
     "name": "stdout",
     "output_type": "stream",
     "text": [
      "tensor(0.0463, grad_fn=<MseLossBackward>)\n",
      "tensor(0.0311, grad_fn=<MseLossBackward>)\n",
      "tensor(0.0068, grad_fn=<MseLossBackward>)\n",
      "tensor(0.0019, grad_fn=<MseLossBackward>)\n",
      "tensor(0.0014, grad_fn=<MseLossBackward>)\n"
     ]
    }
   ],
   "source": [
    "fit(5, net, loss_function, optimizer)"
   ]
  },
  {
   "cell_type": "code",
   "execution_count": 14,
   "metadata": {},
   "outputs": [
    {
     "name": "stdout",
     "output_type": "stream",
     "text": [
      "[0.4874 1.5019 0.8841 ... 2.0004 1.7693 1.4093]\n",
      "[[ 1.9145741  -0.15020002 -1.4383494   0.20412135  0.3512627   0.4423438 ]\n",
      " [ 0.32832018  0.34430078  1.2054212   1.6080654  -0.17194799 -0.90243846]\n",
      " [ 1.0920717  -0.25392783 -0.6832749  -1.3701836   0.652703    0.5495887 ]\n",
      " ...\n",
      " [-1.3023915  -0.62048936 -0.74979854 -0.18972352  0.40748605  0.6497566 ]\n",
      " [-1.8120886  -0.5364253  -0.70289326  0.57592523 -0.4187832   0.5651979 ]\n",
      " [ 0.07982331 -0.76704115 -0.30886936 -0.7774489  -1.0082403   0.98408264]]\n"
     ]
    }
   ],
   "source": [
    "print(test_ds[:][1].numpy())\n",
    "print(test_ds[:][0].numpy())"
   ]
  },
  {
   "cell_type": "code",
   "execution_count": 19,
   "metadata": {},
   "outputs": [],
   "source": [
    "preds2 = net(test_ds[:][0].float())"
   ]
  },
  {
   "cell_type": "code",
   "execution_count": 20,
   "metadata": {},
   "outputs": [
    {
     "data": {
      "text/plain": [
       "<matplotlib.text.Text at 0x134a51320>"
      ]
     },
     "execution_count": 20,
     "metadata": {},
     "output_type": "execute_result"
    },
    {
     "data": {
      "image/png": "[encoded data removed]",
      "text/plain": [
       "<matplotlib.figure.Figure at 0x134a77da0>"
      ]
     },
     "metadata": {},
     "output_type": "display_data"
    }
   ],
   "source": [
    "plt.plot(test_ds[:][1],test_ds[:][1],color='black', label = 'Redshift Ground Truth')\n",
    "plt.scatter(test_ds[:][1],preds2.detach().numpy(),s=2,color='blue', label = 'NN prediction')\n",
    "plt.xlabel('redshift')\n",
    "plt.ylabel('redshift')\n",
    "plt.legend()\n",
    "plt.title ('Redshift NN')"
   ]
  },
  {
   "cell_type": "code",
   "execution_count": 21,
   "metadata": {},
   "outputs": [
    {
     "name": "stdout",
     "output_type": "stream",
     "text": [
      "Root Mean Squared Error: 0.18652773087414629\n",
      "r2 score: 0.9290474134376485\n"
     ]
    }
   ],
   "source": [
    "print('Root Mean Squared Error:', np.sqrt(metrics.mean_squared_error(y_test_t, preds2.detach().numpy())))\n",
    "print('r2 score:', metrics.r2_score(y_test_t, preds2.detach().numpy()))"
   ]
  },
  {
   "cell_type": "code",
   "execution_count": null,
   "metadata": {},
   "outputs": [],
   "source": []
  },
  {
   "cell_type": "code",
   "execution_count": null,
   "metadata": {
    "collapsed": true
   },
   "outputs": [],
   "source": []
  }
 ],
 "metadata": {
  "kernelspec": {
   "display_name": "Python 3",
   "language": "python",
   "name": "python3"
  },
  "language_info": {
   "codemirror_mode": {
    "name": "ipython",
    "version": 3
   },
   "file_extension": ".py",
   "mimetype": "text/x-python",
   "name": "python",
   "nbconvert_exporter": "python",
   "pygments_lexer": "ipython3",
   "version": "3.6.2"
  }
 },
 "nbformat": 4,
 "nbformat_minor": 2
}
