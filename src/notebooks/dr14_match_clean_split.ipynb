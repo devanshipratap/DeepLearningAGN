{
 "cells": [
  {
   "cell_type": "code",
   "execution_count": 1,
   "metadata": {},
   "outputs": [],
   "source": [
    "# importing packages\n",
    "import pandas as pd\n",
    "import matplotlib.pyplot as plt\n",
    "import os\n",
    "import numpy as np\n",
    "from astropy.coordinates import search_around_sky, SkyCoord\n",
    "from astropy import units as u\n",
    "from sklearn.model_selection import train_test_split\n",
    "pd.set_option('display.max_columns', 999)"
   ]
  },
  {
   "cell_type": "code",
   "execution_count": 6,
   "metadata": {},
   "outputs": [],
   "source": [
    "# matching LC and mass data\n",
    "dr14_BH = pd.read_csv('/Users/SnehPandya/Desktop/DeepLearningAGN/data/dr14_BH.csv')\n",
    "dr14_LC = pd.read_csv('/Users/SnehPandya/Desktop/DeepLearningAGN/data/dr14_LC.csv')\n",
    "\n",
    "# quasar catalog redshift more reliable\n",
    "dr14_LC = dr14_LC.drop(columns=['z'])\n",
    "\n",
    "# Match data attributes in the 2 data sets using astropy's SkyCoord\n",
    "COORD1 = SkyCoord(dr14_BH['ra'], dr14_BH['dec'], frame='icrs', unit='deg')\n",
    "COORD2 = SkyCoord(dr14_LC['ra'], dr14_LC['dec'], frame='icrs', unit='deg')\n",
    "IDX1, IDX2, OTHER1, OTHER2 = search_around_sky(COORD1, COORD2, seplimit=0.5 * u.arcsec)\n",
    "\n",
    "# Generating columns for the matched\n",
    "X_TRAIN = []\n",
    "for i in range(len(IDX1)):\n",
    "    result = dr14_BH.iloc[IDX1[i]].append(dr14_LC.iloc[IDX2[i]])\n",
    "    X_TRAIN.append(result)\n",
    "X_TRAIN = pd.concat(X_TRAIN, axis=1)\n",
    "X_TRAIN = X_TRAIN.T\n",
    "\n",
    "X_TRAIN = X_TRAIN.drop(columns= ['SDSS_Name','train_id'])\n",
    "X_TRAIN = X_TRAIN.loc[:, ~X_TRAIN.columns.str.contains('^Unnamed')]"
   ]
  },
  {
   "cell_type": "code",
   "execution_count": 7,
   "metadata": {},
   "outputs": [
    {
     "data": {
      "text/plain": [
       "Index(['ID', 'MJD', 'ra', 'dec', 'Mass', 'z', 'ERR', 'M_i', 'spec_mjd', 'ra',\n",
       "       'dec', 'u_band', 'g_band', 'r_band', 'i_band', 'z_band', 'ug', 'gr',\n",
       "       'ri', 'iz', 'zu'],\n",
       "      dtype='object')"
      ]
     },
     "execution_count": 7,
     "metadata": {},
     "output_type": "execute_result"
    }
   ],
   "source": [
    "# remove repeat columns\n",
    "# X_TRAIN = X_TRAIN.drop(columns=['MJD'])\n",
    "X_TRAIN.columns"
   ]
  },
  {
   "cell_type": "code",
   "execution_count": 8,
   "metadata": {},
   "outputs": [
    {
     "data": {
      "text/plain": [
       "ID           object\n",
       "MJD           int64\n",
       "ra          float64\n",
       "dec         float64\n",
       "Mass        float64\n",
       "z           float64\n",
       "ERR         float64\n",
       "M_i         float64\n",
       "spec_mjd    float64\n",
       "ra          float64\n",
       "dec         float64\n",
       "u_band      float64\n",
       "g_band      float64\n",
       "r_band      float64\n",
       "i_band      float64\n",
       "z_band      float64\n",
       "ug          float64\n",
       "gr          float64\n",
       "ri          float64\n",
       "iz          float64\n",
       "zu          float64\n",
       "dtype: object"
      ]
     },
     "execution_count": 8,
     "metadata": {},
     "output_type": "execute_result"
    }
   ],
   "source": [
    "# convert to numeric\n",
    "X_TRAIN = X_TRAIN.apply(pd.to_numeric, errors='ignore')\n",
    "X_TRAIN.dtypes"
   ]
  },
  {
   "cell_type": "code",
   "execution_count": 9,
   "metadata": {},
   "outputs": [
    {
     "name": "stdout",
     "output_type": "stream",
     "text": [
      "(28444, 21)\n",
      "(28055, 21)\n"
     ]
    }
   ],
   "source": [
    "# cleaning\n",
    "print(X_TRAIN.shape)\n",
    "X_TRAIN = X_TRAIN.dropna()\n",
    "X_TRAIN = X_TRAIN.drop(X_TRAIN[X_TRAIN.Mass <= 0].index)\n",
    "# X_TRAIN = X_TRAIN.drop(X_TRAIN[X_TRAIN.Mass < 0].index)\n",
    "print(X_TRAIN.shape)"
   ]
  },
  {
   "cell_type": "code",
   "execution_count": 10,
   "metadata": {},
   "outputs": [
    {
     "data": {
      "text/plain": [
       "True"
      ]
     },
     "execution_count": 10,
     "metadata": {},
     "output_type": "execute_result"
    }
   ],
   "source": [
    "# split data\n",
    "train, test = train_test_split(X_TRAIN, test_size=0.15)\n",
    "# check\n",
    "test.shape[0] + train.shape[0] == X_TRAIN.shape[0]"
   ]
  },
  {
   "cell_type": "code",
   "execution_count": 11,
   "metadata": {},
   "outputs": [],
   "source": [
    "X_TRAIN.to_csv('/Users/SnehPandya/Desktop/DeepLearningAGN/data/matched_dr14.csv')"
   ]
  },
  {
   "cell_type": "code",
   "execution_count": 12,
   "metadata": {},
   "outputs": [],
   "source": [
    "train.to_csv('/Users/SnehPandya/Desktop/DeepLearningAGN/data/TRAIN_dr14.csv')\n",
    "test.to_csv('/Users/SnehPandya/Desktop/DeepLearningAGN/data/TEST_dr14.csv')"
   ]
  },
  {
   "cell_type": "code",
   "execution_count": null,
   "metadata": {},
   "outputs": [],
   "source": []
  }
 ],
 "metadata": {
  "kernelspec": {
   "display_name": "Python 3",
   "language": "python",
   "name": "python3"
  },
  "language_info": {
   "codemirror_mode": {
    "name": "ipython",
    "version": 3
   },
   "file_extension": ".py",
   "mimetype": "text/x-python",
   "name": "python",
   "nbconvert_exporter": "python",
   "pygments_lexer": "ipython3",
   "version": "3.8.5"
  }
 },
 "nbformat": 4,
 "nbformat_minor": 4
}
