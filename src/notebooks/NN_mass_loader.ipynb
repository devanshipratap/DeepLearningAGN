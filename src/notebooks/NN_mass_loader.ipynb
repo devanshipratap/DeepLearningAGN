{
 "cells": [
  {
   "cell_type": "code",
   "execution_count": 1,
   "metadata": {
    "collapsed": true
   },
   "outputs": [],
   "source": [
    "# importing packages\n",
    "%matplotlib inline\n",
    "import pandas as pd\n",
    "import numpy as np\n",
    "import matplotlib.pyplot as plt\n",
    "from sklearn.model_selection import train_test_split\n",
    "from sklearn.preprocessing import StandardScaler, MinMaxScaler\n",
    "from sklearn import metrics\n",
    "import torch\n",
    "import torch.nn as nn \n",
    "import torch.nn.functional as F\n",
    "from torch.autograd import Variable\n",
    "import torch.optim as optim\n",
    "from torch.utils.data import TensorDataset, DataLoader, Dataset\n",
    "from pickle import dump, load\n",
    "from scipy.stats import pearsonr\n",
    "from sklearn.metrics import r2_score"
   ]
  },
  {
   "cell_type": "code",
   "execution_count": 2,
   "metadata": {
    "collapsed": true
   },
   "outputs": [],
   "source": [
    "df = pd.read_csv('/Users/SnehPandya/Desktop/nn/train_drw_full.csv')\n",
    "df2 = pd.read_csv('/Users/SnehPandya/Desktop/nn/test_drw_zmipred.csv')\n",
    "# df2 = df2.drop(columns = ['mu'])"
   ]
  },
  {
   "cell_type": "code",
   "execution_count": 3,
   "metadata": {},
   "outputs": [
    {
     "data": {
      "text/html": [
       "<div>\n",
       "<style scoped>\n",
       "    .dataframe tbody tr th:only-of-type {\n",
       "        vertical-align: middle;\n",
       "    }\n",
       "\n",
       "    .dataframe tbody tr th {\n",
       "        vertical-align: top;\n",
       "    }\n",
       "\n",
       "    .dataframe thead th {\n",
       "        text-align: right;\n",
       "    }\n",
       "</style>\n",
       "<table border=\"1\" class=\"dataframe\">\n",
       "  <thead>\n",
       "    <tr style=\"text-align: right;\">\n",
       "      <th></th>\n",
       "      <th>ID</th>\n",
       "      <th>Mass_ground_truth</th>\n",
       "      <th>RA</th>\n",
       "      <th>DEC</th>\n",
       "      <th>tau_lim_lo</th>\n",
       "      <th>tau_lim_hi</th>\n",
       "      <th>sig_lim_lo</th>\n",
       "      <th>sig_lim_hi</th>\n",
       "      <th>mu</th>\n",
       "      <th>u_band</th>\n",
       "      <th>...</th>\n",
       "      <th>z_band</th>\n",
       "      <th>z</th>\n",
       "      <th>M_i</th>\n",
       "      <th>ug</th>\n",
       "      <th>gr</th>\n",
       "      <th>ri</th>\n",
       "      <th>iz</th>\n",
       "      <th>zu</th>\n",
       "      <th>tau</th>\n",
       "      <th>sigma</th>\n",
       "    </tr>\n",
       "  </thead>\n",
       "  <tbody>\n",
       "    <tr>\n",
       "      <th>0</th>\n",
       "      <td>49159</td>\n",
       "      <td>9.284316</td>\n",
       "      <td>0.027228</td>\n",
       "      <td>0.515349</td>\n",
       "      <td>2.49379</td>\n",
       "      <td>4.35451</td>\n",
       "      <td>-0.701226</td>\n",
       "      <td>-0.491335</td>\n",
       "      <td>20.1577</td>\n",
       "      <td>20.216891</td>\n",
       "      <td>...</td>\n",
       "      <td>20.026435</td>\n",
       "      <td>1.8227</td>\n",
       "      <td>-25.100</td>\n",
       "      <td>0.066609</td>\n",
       "      <td>-0.030761</td>\n",
       "      <td>0.218283</td>\n",
       "      <td>-0.063674</td>\n",
       "      <td>-0.190457</td>\n",
       "      <td>2.64638</td>\n",
       "      <td>-0.555389</td>\n",
       "    </tr>\n",
       "    <tr>\n",
       "      <th>1</th>\n",
       "      <td>24646</td>\n",
       "      <td>8.287811</td>\n",
       "      <td>0.049842</td>\n",
       "      <td>0.040372</td>\n",
       "      <td>2.01338</td>\n",
       "      <td>3.51705</td>\n",
       "      <td>-0.787068</td>\n",
       "      <td>-0.614831</td>\n",
       "      <td>18.0157</td>\n",
       "      <td>18.039429</td>\n",
       "      <td>...</td>\n",
       "      <td>17.690816</td>\n",
       "      <td>0.4790</td>\n",
       "      <td>-24.046</td>\n",
       "      <td>0.238531</td>\n",
       "      <td>-0.050367</td>\n",
       "      <td>0.082918</td>\n",
       "      <td>0.077531</td>\n",
       "      <td>-0.348612</td>\n",
       "      <td>2.22711</td>\n",
       "      <td>-0.660666</td>\n",
       "    </tr>\n",
       "    <tr>\n",
       "      <th>2</th>\n",
       "      <td>113067</td>\n",
       "      <td>8.591425</td>\n",
       "      <td>0.051076</td>\n",
       "      <td>-0.539049</td>\n",
       "      <td>2.39531</td>\n",
       "      <td>4.27549</td>\n",
       "      <td>-0.664451</td>\n",
       "      <td>-0.429594</td>\n",
       "      <td>20.5704</td>\n",
       "      <td>20.523949</td>\n",
       "      <td>...</td>\n",
       "      <td>20.200915</td>\n",
       "      <td>1.4365</td>\n",
       "      <td>-24.529</td>\n",
       "      <td>0.052780</td>\n",
       "      <td>0.229390</td>\n",
       "      <td>0.109610</td>\n",
       "      <td>-0.068746</td>\n",
       "      <td>-0.323034</td>\n",
       "      <td>2.54143</td>\n",
       "      <td>-0.495080</td>\n",
       "    </tr>\n",
       "    <tr>\n",
       "      <th>3</th>\n",
       "      <td>35034</td>\n",
       "      <td>9.483711</td>\n",
       "      <td>0.057505</td>\n",
       "      <td>-0.913004</td>\n",
       "      <td>2.98242</td>\n",
       "      <td>4.60146</td>\n",
       "      <td>-1.124520</td>\n",
       "      <td>-0.857041</td>\n",
       "      <td>20.3372</td>\n",
       "      <td>20.253569</td>\n",
       "      <td>...</td>\n",
       "      <td>19.407466</td>\n",
       "      <td>1.8361</td>\n",
       "      <td>-25.648</td>\n",
       "      <td>0.186000</td>\n",
       "      <td>0.143224</td>\n",
       "      <td>0.447431</td>\n",
       "      <td>0.069448</td>\n",
       "      <td>-0.846103</td>\n",
       "      <td>3.25353</td>\n",
       "      <td>-0.974542</td>\n",
       "    </tr>\n",
       "    <tr>\n",
       "      <th>4</th>\n",
       "      <td>18787</td>\n",
       "      <td>8.645721</td>\n",
       "      <td>0.061778</td>\n",
       "      <td>-1.175193</td>\n",
       "      <td>2.86962</td>\n",
       "      <td>4.59463</td>\n",
       "      <td>-0.890711</td>\n",
       "      <td>-0.675474</td>\n",
       "      <td>19.4620</td>\n",
       "      <td>19.554245</td>\n",
       "      <td>...</td>\n",
       "      <td>19.300898</td>\n",
       "      <td>1.8902</td>\n",
       "      <td>-26.149</td>\n",
       "      <td>0.022714</td>\n",
       "      <td>0.034735</td>\n",
       "      <td>0.197388</td>\n",
       "      <td>-0.001490</td>\n",
       "      <td>-0.253347</td>\n",
       "      <td>3.08560</td>\n",
       "      <td>-0.747354</td>\n",
       "    </tr>\n",
       "  </tbody>\n",
       "</table>\n",
       "<p>5 rows × 23 columns</p>\n",
       "</div>"
      ],
      "text/plain": [
       "       ID  Mass_ground_truth        RA       DEC  tau_lim_lo  tau_lim_hi  \\\n",
       "0   49159           9.284316  0.027228  0.515349     2.49379     4.35451   \n",
       "1   24646           8.287811  0.049842  0.040372     2.01338     3.51705   \n",
       "2  113067           8.591425  0.051076 -0.539049     2.39531     4.27549   \n",
       "3   35034           9.483711  0.057505 -0.913004     2.98242     4.60146   \n",
       "4   18787           8.645721  0.061778 -1.175193     2.86962     4.59463   \n",
       "\n",
       "   sig_lim_lo  sig_lim_hi       mu     u_band  ...     z_band       z     M_i  \\\n",
       "0   -0.701226   -0.491335  20.1577  20.216891  ...  20.026435  1.8227 -25.100   \n",
       "1   -0.787068   -0.614831  18.0157  18.039429  ...  17.690816  0.4790 -24.046   \n",
       "2   -0.664451   -0.429594  20.5704  20.523949  ...  20.200915  1.4365 -24.529   \n",
       "3   -1.124520   -0.857041  20.3372  20.253569  ...  19.407466  1.8361 -25.648   \n",
       "4   -0.890711   -0.675474  19.4620  19.554245  ...  19.300898  1.8902 -26.149   \n",
       "\n",
       "         ug        gr        ri        iz        zu      tau     sigma  \n",
       "0  0.066609 -0.030761  0.218283 -0.063674 -0.190457  2.64638 -0.555389  \n",
       "1  0.238531 -0.050367  0.082918  0.077531 -0.348612  2.22711 -0.660666  \n",
       "2  0.052780  0.229390  0.109610 -0.068746 -0.323034  2.54143 -0.495080  \n",
       "3  0.186000  0.143224  0.447431  0.069448 -0.846103  3.25353 -0.974542  \n",
       "4  0.022714  0.034735  0.197388 -0.001490 -0.253347  3.08560 -0.747354  \n",
       "\n",
       "[5 rows x 23 columns]"
      ]
     },
     "execution_count": 3,
     "metadata": {},
     "output_type": "execute_result"
    }
   ],
   "source": [
    "df.head()"
   ]
  },
  {
   "cell_type": "code",
   "execution_count": 4,
   "metadata": {},
   "outputs": [
    {
     "data": {
      "text/plain": [
       "z         0.479000\n",
       "M_i     -24.046000\n",
       "ug        0.238531\n",
       "gr       -0.050367\n",
       "ri        0.082918\n",
       "iz        0.077531\n",
       "zu       -0.348612\n",
       "tau       2.227110\n",
       "sigma    -0.660666\n",
       "Name: 1, dtype: float64"
      ]
     },
     "execution_count": 4,
     "metadata": {},
     "output_type": "execute_result"
    }
   ],
   "source": [
    "df2.head()\n",
    "df.iloc[1,14:]"
   ]
  },
  {
   "cell_type": "code",
   "execution_count": 5,
   "metadata": {
    "scrolled": true
   },
   "outputs": [
    {
     "data": {
      "text/plain": [
       "(tensor(49159),\n",
       " tensor([[ 0.3384,  0.0064, -0.6302, -1.0979,  0.3999, -1.1896,  0.9270, -0.0395,\n",
       "           0.0019]], dtype=torch.float64),\n",
       " tensor(9.2843, dtype=torch.float64))"
      ]
     },
     "execution_count": 5,
     "metadata": {},
     "output_type": "execute_result"
    }
   ],
   "source": [
    "class BHDataset(Dataset):\n",
    "    def __init__(self, path, train=True):\n",
    "        self.path = path\n",
    "        self.train = train\n",
    "        self.sc = StandardScaler()\n",
    "\n",
    "        if self.train:\n",
    "            self.data = pd.read_csv(self.path + 'train_drw_full.csv')\n",
    "            self.features = self.sc.fit_transform(np.asarray(self.data.iloc[:,14:]))\n",
    "            dump(self.sc, open('train_scaler_reject_zmi.pkl','wb'))\n",
    "        \n",
    "        else:\n",
    "            self.data = pd.read_csv(self.path + 'test_drw_full.csv')\n",
    "#             self.data = self.data.drop(columns = ['Unnamed: 0'])\n",
    "            self.sc = load(open('train_scaler_reject_zmi.pkl','rb'))\n",
    "            self.features = self.sc.transform(np.asarray(self.data.iloc[:,14:]))\n",
    "            \n",
    "                \n",
    "    def __len__(self):\n",
    "        return len(self.data)\n",
    "    \n",
    "    def __getitem__(self, index):\n",
    "\n",
    "        ID = torch.from_numpy(np.asarray(self.data.iloc[index,0]))\n",
    "        mass = torch.from_numpy(np.asarray(self.data.iloc[index,1]))\n",
    "        features = torch.from_numpy(self.features[index].reshape(1,-1))\n",
    "        return (ID, features, mass)\n",
    "\n",
    "        \n",
    "train_ds = BHDataset('/Users/SnehPandya/Desktop/nn/')\n",
    "test_ds = BHDataset('/Users/SnehPandya/Desktop/nn/', train=False) \n",
    "train_ds.__getitem__(0)"
   ]
  },
  {
   "cell_type": "code",
   "execution_count": 6,
   "metadata": {
    "collapsed": true
   },
   "outputs": [],
   "source": [
    "train_dl = DataLoader(train_ds, batch_size=256, shuffle=True)\n",
    "test_dl = DataLoader(test_ds, batch_size=256, shuffle=False)"
   ]
  },
  {
   "cell_type": "code",
   "execution_count": 7,
   "metadata": {},
   "outputs": [
    {
     "data": {
      "text/plain": [
       "<All keys matched successfully>"
      ]
     },
     "execution_count": 7,
     "metadata": {},
     "output_type": "execute_result"
    }
   ],
   "source": [
    "class Net(nn.Module):\n",
    "    def __init__(self):\n",
    "        super().__init__()\n",
    "        self.fc1 = nn.Linear(9, 64)\n",
    "        self.fc2 = nn.Linear(64, 64)\n",
    "        self.fc3 = nn.Linear(64, 64)\n",
    "        self.fc4 = nn.Linear(64, 64)\n",
    "        self.fc5 = nn.Linear(64, 64)\n",
    "        self.fc6 = nn.Linear(64, 64)\n",
    "        self.fc7 = nn.Linear(64, 1)\n",
    "\n",
    "    def forward(self, x):\n",
    "        x = F.relu(self.fc1(x))\n",
    "        x = F.relu(self.fc2(x))\n",
    "        x = F.relu(self.fc3(x))\n",
    "        x = F.relu(self.fc4(x))\n",
    "        x = F.relu(self.fc5(x))\n",
    "        x = F.relu(self.fc6(x))\n",
    "        x = self.fc7(x)\n",
    "        return x\n",
    "\n",
    "net = Net()\n",
    "net.load_state_dict(torch.load('/Users/SnehPandya/Desktop/AGNet_100epoch_drw_9_357.mdl'))"
   ]
  },
  {
   "cell_type": "code",
   "execution_count": 8,
   "metadata": {
    "collapsed": true
   },
   "outputs": [],
   "source": [
    "# loss function and optimizer\n",
    "optimizer = optim.AdamW(net.parameters(), lr=0.001)\n",
    "loss_function = F.smooth_l1_loss"
   ]
  },
  {
   "cell_type": "code",
   "execution_count": 9,
   "metadata": {},
   "outputs": [
    {
     "data": {
      "image/png": "[encoded data removed]",
      "text/plain": [
       "<matplotlib.figure.Figure at 0x109ed6518>"
      ]
     },
     "metadata": {},
     "output_type": "display_data"
    }
   ],
   "source": [
    "# testing loop\n",
    "def test(net):\n",
    "\n",
    "    with torch.no_grad():\n",
    "        outputs_ID, outputs_pred, outputs_mass = ([] for i in range(3))\n",
    "        \n",
    "        for data in test_dl:\n",
    "            ID, X, mass = data  # X is the batch of features, y is the batch of targets.\n",
    "            outputs_ID.append(ID)\n",
    "            outputs_mass.append(mass.float())\n",
    "            output = net(X.float()) # pass in the reshaped batch (recall they are 28x28 atm)\n",
    "            outputs_pred.append(output.float())\n",
    "            loss = loss_function(output.squeeze(), mass.float().squeeze())# calc and grab the loss value\n",
    "\n",
    "        ground_truth = torch.cat(outputs_mass).data # .stack for using dataset (.cat for dataloader)\n",
    "        predictions = torch.cat(outputs_pred).data.flatten()\n",
    "        ID = torch.cat(outputs_ID).data\n",
    "        rmse = np.sqrt(metrics.mean_squared_error(ground_truth, predictions))\n",
    "        plt.plot(ground_truth, ground_truth,color='black', label = 'Mass Ground Truth')\n",
    "        plt.scatter(ground_truth,predictions,s=2, color='blue', label = 'NN prediction')\n",
    "        plt.title('RMSE:' + str(rmse) + ' | LOSS: ' + str(loss.data.numpy()))\n",
    "        plt.xlabel('AGN Mass')\n",
    "        plt.ylabel('AGN Mass')\n",
    "        plt.legend()\n",
    "        plt.show()\n",
    "        \n",
    "        df = pd.DataFrame({'ID':ID.numpy(), 'ground truth':ground_truth.numpy(), 'network predictions':predictions.numpy() })\n",
    "        return df\n",
    "df = test(net)"
   ]
  },
  {
   "cell_type": "code",
   "execution_count": 10,
   "metadata": {
    "collapsed": true
   },
   "outputs": [],
   "source": [
    "# df.to_csv('/Users/SnehPandya/Desktop/nn/mass_drw_zmipred_results.csv')\n",
    "df.to_csv('/Users/SnehPandya/Desktop/nn/mass_drw_results_FINAL.csv')"
   ]
  },
  {
   "cell_type": "code",
   "execution_count": 21,
   "metadata": {},
   "outputs": [
    {
     "data": {
      "text/plain": [
       "0.27251604224996673"
      ]
     },
     "execution_count": 21,
     "metadata": {},
     "output_type": "execute_result"
    }
   ],
   "source": [
    "r2_score(df['ground truth'], df['network predictions'])"
   ]
  },
  {
   "cell_type": "code",
   "execution_count": null,
   "metadata": {
    "collapsed": true
   },
   "outputs": [],
   "source": []
  }
 ],
 "metadata": {
  "kernelspec": {
   "display_name": "Python 3",
   "language": "python",
   "name": "python3"
  },
  "language_info": {
   "codemirror_mode": {
    "name": "ipython",
    "version": 3
   },
   "file_extension": ".py",
   "mimetype": "text/x-python",
   "name": "python",
   "nbconvert_exporter": "python",
   "pygments_lexer": "ipython3",
   "version": "3.6.2"
  }
 },
 "nbformat": 4,
 "nbformat_minor": 2
}
