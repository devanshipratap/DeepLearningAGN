{
 "cells": [
  {
   "cell_type": "code",
   "execution_count": 184,
   "metadata": {
    "collapsed": true
   },
   "outputs": [],
   "source": [
    "## features - u_band, g_band, r_band, i_band, z_band, redshift\n",
    "## targets - BH Mass"
   ]
  },
  {
   "cell_type": "code",
   "execution_count": 185,
   "metadata": {
    "collapsed": true
   },
   "outputs": [],
   "source": [
    "# importing packages\n",
    "import pandas as pd\n",
    "import numpy as np\n",
    "import matplotlib.pyplot as plt\n",
    "from sklearn.model_selection import train_test_split\n",
    "from sklearn.preprocessing import StandardScaler\n",
    "from sklearn.neighbors import KNeighborsRegressor\n",
    "from sklearn import metrics"
   ]
  },
  {
   "cell_type": "code",
   "execution_count": 186,
   "metadata": {},
   "outputs": [
    {
     "data": {
      "text/html": [
       "<div>\n",
       "<style scoped>\n",
       "    .dataframe tbody tr th:only-of-type {\n",
       "        vertical-align: middle;\n",
       "    }\n",
       "\n",
       "    .dataframe tbody tr th {\n",
       "        vertical-align: top;\n",
       "    }\n",
       "\n",
       "    .dataframe thead th {\n",
       "        text-align: right;\n",
       "    }\n",
       "</style>\n",
       "<table border=\"1\" class=\"dataframe\">\n",
       "  <thead>\n",
       "    <tr style=\"text-align: right;\">\n",
       "      <th></th>\n",
       "      <th>u_band</th>\n",
       "      <th>g_band</th>\n",
       "      <th>r_band</th>\n",
       "      <th>i_band</th>\n",
       "      <th>z_band</th>\n",
       "      <th>z</th>\n",
       "      <th>ug</th>\n",
       "      <th>gr</th>\n",
       "      <th>ri</th>\n",
       "      <th>iz</th>\n",
       "      <th>zu</th>\n",
       "    </tr>\n",
       "  </thead>\n",
       "  <tbody>\n",
       "    <tr>\n",
       "      <th>0</th>\n",
       "      <td>18.982250</td>\n",
       "      <td>18.900643</td>\n",
       "      <td>18.596375</td>\n",
       "      <td>18.584750</td>\n",
       "      <td>18.720857</td>\n",
       "      <td>1.1875</td>\n",
       "      <td>0.081607</td>\n",
       "      <td>0.304268</td>\n",
       "      <td>0.011625</td>\n",
       "      <td>-0.136107</td>\n",
       "      <td>-0.261393</td>\n",
       "    </tr>\n",
       "    <tr>\n",
       "      <th>1</th>\n",
       "      <td>20.822754</td>\n",
       "      <td>20.706984</td>\n",
       "      <td>20.583098</td>\n",
       "      <td>20.400262</td>\n",
       "      <td>20.097541</td>\n",
       "      <td>2.0993</td>\n",
       "      <td>0.115770</td>\n",
       "      <td>0.123885</td>\n",
       "      <td>0.182836</td>\n",
       "      <td>0.302721</td>\n",
       "      <td>-0.725213</td>\n",
       "    </tr>\n",
       "    <tr>\n",
       "      <th>2</th>\n",
       "      <td>21.185649</td>\n",
       "      <td>20.891439</td>\n",
       "      <td>20.409386</td>\n",
       "      <td>20.336351</td>\n",
       "      <td>20.082965</td>\n",
       "      <td>1.1103</td>\n",
       "      <td>0.294211</td>\n",
       "      <td>0.482053</td>\n",
       "      <td>0.073035</td>\n",
       "      <td>0.253386</td>\n",
       "      <td>-1.102684</td>\n",
       "    </tr>\n",
       "    <tr>\n",
       "      <th>3</th>\n",
       "      <td>20.238111</td>\n",
       "      <td>19.877519</td>\n",
       "      <td>19.916019</td>\n",
       "      <td>19.845519</td>\n",
       "      <td>19.731352</td>\n",
       "      <td>0.6794</td>\n",
       "      <td>0.360593</td>\n",
       "      <td>-0.038500</td>\n",
       "      <td>0.070500</td>\n",
       "      <td>0.114167</td>\n",
       "      <td>-0.506759</td>\n",
       "    </tr>\n",
       "    <tr>\n",
       "      <th>4</th>\n",
       "      <td>17.895957</td>\n",
       "      <td>17.664872</td>\n",
       "      <td>17.407213</td>\n",
       "      <td>17.446128</td>\n",
       "      <td>17.437894</td>\n",
       "      <td>1.0459</td>\n",
       "      <td>0.231085</td>\n",
       "      <td>0.257660</td>\n",
       "      <td>-0.038915</td>\n",
       "      <td>0.008234</td>\n",
       "      <td>-0.458064</td>\n",
       "    </tr>\n",
       "    <tr>\n",
       "      <th>5</th>\n",
       "      <td>20.030270</td>\n",
       "      <td>19.890143</td>\n",
       "      <td>19.572317</td>\n",
       "      <td>19.534397</td>\n",
       "      <td>19.573444</td>\n",
       "      <td>1.2030</td>\n",
       "      <td>0.140127</td>\n",
       "      <td>0.317825</td>\n",
       "      <td>0.037921</td>\n",
       "      <td>-0.039048</td>\n",
       "      <td>-0.456825</td>\n",
       "    </tr>\n",
       "    <tr>\n",
       "      <th>6</th>\n",
       "      <td>18.721000</td>\n",
       "      <td>18.515000</td>\n",
       "      <td>18.543333</td>\n",
       "      <td>18.381000</td>\n",
       "      <td>17.800667</td>\n",
       "      <td>0.4122</td>\n",
       "      <td>0.206000</td>\n",
       "      <td>-0.028333</td>\n",
       "      <td>0.162333</td>\n",
       "      <td>0.580333</td>\n",
       "      <td>-0.920333</td>\n",
       "    </tr>\n",
       "    <tr>\n",
       "      <th>7</th>\n",
       "      <td>20.311204</td>\n",
       "      <td>19.343122</td>\n",
       "      <td>19.101469</td>\n",
       "      <td>18.716061</td>\n",
       "      <td>18.463020</td>\n",
       "      <td>1.7732</td>\n",
       "      <td>0.968082</td>\n",
       "      <td>0.241653</td>\n",
       "      <td>0.385408</td>\n",
       "      <td>0.253041</td>\n",
       "      <td>-1.848184</td>\n",
       "    </tr>\n",
       "    <tr>\n",
       "      <th>8</th>\n",
       "      <td>18.251062</td>\n",
       "      <td>17.960554</td>\n",
       "      <td>17.815600</td>\n",
       "      <td>17.734831</td>\n",
       "      <td>17.548046</td>\n",
       "      <td>2.1617</td>\n",
       "      <td>0.290508</td>\n",
       "      <td>0.144954</td>\n",
       "      <td>0.080769</td>\n",
       "      <td>0.186785</td>\n",
       "      <td>-0.703015</td>\n",
       "    </tr>\n",
       "    <tr>\n",
       "      <th>9</th>\n",
       "      <td>22.055582</td>\n",
       "      <td>20.204018</td>\n",
       "      <td>20.095018</td>\n",
       "      <td>20.165564</td>\n",
       "      <td>19.993800</td>\n",
       "      <td>2.9699</td>\n",
       "      <td>1.851564</td>\n",
       "      <td>0.109000</td>\n",
       "      <td>-0.070545</td>\n",
       "      <td>0.171764</td>\n",
       "      <td>-2.061782</td>\n",
       "    </tr>\n",
       "  </tbody>\n",
       "</table>\n",
       "</div>"
      ],
      "text/plain": [
       "      u_band     g_band     r_band     i_band     z_band       z        ug  \\\n",
       "0  18.982250  18.900643  18.596375  18.584750  18.720857  1.1875  0.081607   \n",
       "1  20.822754  20.706984  20.583098  20.400262  20.097541  2.0993  0.115770   \n",
       "2  21.185649  20.891439  20.409386  20.336351  20.082965  1.1103  0.294211   \n",
       "3  20.238111  19.877519  19.916019  19.845519  19.731352  0.6794  0.360593   \n",
       "4  17.895957  17.664872  17.407213  17.446128  17.437894  1.0459  0.231085   \n",
       "5  20.030270  19.890143  19.572317  19.534397  19.573444  1.2030  0.140127   \n",
       "6  18.721000  18.515000  18.543333  18.381000  17.800667  0.4122  0.206000   \n",
       "7  20.311204  19.343122  19.101469  18.716061  18.463020  1.7732  0.968082   \n",
       "8  18.251062  17.960554  17.815600  17.734831  17.548046  2.1617  0.290508   \n",
       "9  22.055582  20.204018  20.095018  20.165564  19.993800  2.9699  1.851564   \n",
       "\n",
       "         gr        ri        iz        zu  \n",
       "0  0.304268  0.011625 -0.136107 -0.261393  \n",
       "1  0.123885  0.182836  0.302721 -0.725213  \n",
       "2  0.482053  0.073035  0.253386 -1.102684  \n",
       "3 -0.038500  0.070500  0.114167 -0.506759  \n",
       "4  0.257660 -0.038915  0.008234 -0.458064  \n",
       "5  0.317825  0.037921 -0.039048 -0.456825  \n",
       "6 -0.028333  0.162333  0.580333 -0.920333  \n",
       "7  0.241653  0.385408  0.253041 -1.848184  \n",
       "8  0.144954  0.080769  0.186785 -0.703015  \n",
       "9  0.109000 -0.070545  0.171764 -2.061782  "
      ]
     },
     "execution_count": 186,
     "metadata": {},
     "output_type": "execute_result"
    }
   ],
   "source": [
    "#reading data\n",
    "df = pd.read_csv('/Users/SnehPandya/Desktop/DeepLearningAGN/data/clean_full_data_absma2g.csv')\n",
    "df['ug'] = df.apply(lambda row: row.u_band - row.g_band,axis=1)\n",
    "df['gr'] = df.apply(lambda row: row.g_band - row.r_band,axis=1)\n",
    "df['ri'] = df.apply(lambda row: row.r_band - row.i_band,axis=1)\n",
    "df['iz'] = df.apply(lambda row: row.i_band - row.z_band,axis=1)\n",
    "df['zu'] = df.apply(lambda row: row.z_band - row.u_band,axis=1)\n",
    "df = df.drop(columns = ['RA', 'DEC', 'ID', 'ERR', 'M_g','M_r','M_z', 'M_u', 'Unnamed: 0','mu','Mass_ground_truth','M_i'])\n",
    "df.head(10)"
   ]
  },
  {
   "cell_type": "code",
   "execution_count": 187,
   "metadata": {
    "collapsed": true
   },
   "outputs": [],
   "source": [
    "# defining feature and target numpy arrays\n",
    "X = df.iloc[:, [0,1,2,3,4]].values\n",
    "y = df.iloc[:,5].values"
   ]
  },
  {
   "cell_type": "code",
   "execution_count": 188,
   "metadata": {
    "collapsed": true
   },
   "outputs": [],
   "source": [
    "# train test split\n",
    "seed = np.random.seed()\n",
    "X_train, X_test, y_train, y_test = train_test_split(X, y, test_size = 0.15, random_state = seed)"
   ]
  },
  {
   "cell_type": "code",
   "execution_count": 189,
   "metadata": {},
   "outputs": [
    {
     "name": "stdout",
     "output_type": "stream",
     "text": [
      "(1372, 5)\n",
      "(1372,)\n"
     ]
    }
   ],
   "source": [
    "# normalizing features\n",
    "sc = StandardScaler()\n",
    "X_train = sc.fit_transform(X_train)\n",
    "X_test = sc.transform(X_test)\n",
    "print(X_test.shape)\n",
    "print(y_test.shape)"
   ]
  },
  {
   "cell_type": "code",
   "execution_count": 190,
   "metadata": {
    "collapsed": true
   },
   "outputs": [],
   "source": [
    "# parameter tuning\n",
    "# for i in range(1,100):\n",
    "#     for j in range(1,4):\n",
    "#         n_neighbors = i\n",
    "#         classifier = KNeighborsRegressor(n_neighbors = n_neighbors, weights = 'uniform', p=j)\n",
    "#         classifier.fit(X_train, y_train)\n",
    "#         y_pred = classifier.predict(X_test)\n",
    "#         rmse = np.sqrt(metrics.mean_squared_error(y_test, y_pred))\n",
    "#         r2 = metrics.r2_score(y_test, y_pred)\n",
    "#         print(i,j,rmse,r2)\n",
    "# for i in range(1,100):\n",
    "#     for j in range(1,4):\n",
    "#         n_neighbors = i\n",
    "#         classifier = KNeighborsRegressor(n_neighbors = n_neighbors, weights = 'distance', p=j)\n",
    "#         classifier.fit(X_train, y_train)\n",
    "#         y_pred = classifier.predict(X_test)\n",
    "#         rmse = np.sqrt(metrics.mean_squared_error(y_test, y_pred))\n",
    "#         r2 = metrics.r2_score(y_test, y_pred)\n",
    "#         print(i,j,rmse,r2)"
   ]
  },
  {
   "cell_type": "code",
   "execution_count": 191,
   "metadata": {},
   "outputs": [
    {
     "data": {
      "text/plain": [
       "KNeighborsRegressor(algorithm='auto', leaf_size=30, metric='minkowski',\n",
       "                    metric_params=None, n_jobs=None, n_neighbors=16, p=2,\n",
       "                    weights='distance')"
      ]
     },
     "execution_count": 191,
     "metadata": {},
     "output_type": "execute_result"
    }
   ],
   "source": [
    "# KNN Regression Classifier\n",
    "n_neighbors = 16\n",
    "classifier = KNeighborsRegressor(n_neighbors = n_neighbors, weights = 'distance', p=2)\n",
    "classifier.fit(X_train, y_train)"
   ]
  },
  {
   "cell_type": "code",
   "execution_count": 192,
   "metadata": {
    "collapsed": true
   },
   "outputs": [],
   "source": [
    "# Fitting\n",
    "y_pred = classifier.predict(X_test)"
   ]
  },
  {
   "cell_type": "code",
   "execution_count": 193,
   "metadata": {},
   "outputs": [
    {
     "data": {
      "image/png": "[encoded data removed]",
      "text/plain": [
       "<matplotlib.figure.Figure at 0x116dc0198>"
      ]
     },
     "metadata": {},
     "output_type": "display_data"
    }
   ],
   "source": [
    "plt.plot(y_test, y_test, color = 'black', label = 'Mass ground truth')\n",
    "plt.scatter(y_test, y_pred, color = 'blue', s=2, label = 'KNN prediction')\n",
    "plt.xlabel('BH Mass')\n",
    "plt.ylabel('BH Mass')\n",
    "plt.legend()\n",
    "plt.title('KNN Regression Prediction')\n",
    "plt.show()"
   ]
  },
  {
   "cell_type": "code",
   "execution_count": 194,
   "metadata": {},
   "outputs": [
    {
     "name": "stdout",
     "output_type": "stream",
     "text": [
      "Root Mean Squared Error: 0.439920844796\n",
      "r2 score: 0.624137102389\n"
     ]
    }
   ],
   "source": [
    "print('Root Mean Squared Error:', np.sqrt(metrics.mean_squared_error(y_test, y_pred)))\n",
    "print('r2 score:', metrics.r2_score(y_test, y_pred))"
   ]
  },
  {
   "cell_type": "code",
   "execution_count": 195,
   "metadata": {
    "collapsed": true
   },
   "outputs": [],
   "source": [
    "# color : RMSE ~ .375,.364,.369,.384\n",
    "# color and bands : RMSE ~ .390, .388, .381, .389\n",
    "# bands : RMSE ~ .417, .424, .435, .439"
   ]
  }
 ],
 "metadata": {
  "kernelspec": {
   "display_name": "Python 3",
   "language": "python",
   "name": "python3"
  },
  "language_info": {
   "codemirror_mode": {
    "name": "ipython",
    "version": 3
   },
   "file_extension": ".py",
   "mimetype": "text/x-python",
   "name": "python",
   "nbconvert_exporter": "python",
   "pygments_lexer": "ipython3",
   "version": "3.6.2"
  }
 },
 "nbformat": 4,
 "nbformat_minor": 2
}
