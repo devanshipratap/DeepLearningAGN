{
 "cells": [
  {
   "cell_type": "code",
   "execution_count": 2,
   "metadata": {
    "collapsed": true
   },
   "outputs": [],
   "source": [
    "# importing packages\n",
    "import numpy as np\n",
    "import pandas as pd\n",
    "import matplotlib.pyplot as plt \n",
    "from sklearn.linear_model import LinearRegression\n",
    "from sklearn.model_selection import train_test_split \n",
    "from sklearn import metrics"
   ]
  },
  {
   "cell_type": "code",
   "execution_count": 3,
   "metadata": {},
   "outputs": [
    {
     "data": {
      "text/html": [
       "<div>\n",
       "<style scoped>\n",
       "    .dataframe tbody tr th:only-of-type {\n",
       "        vertical-align: middle;\n",
       "    }\n",
       "\n",
       "    .dataframe tbody tr th {\n",
       "        vertical-align: top;\n",
       "    }\n",
       "\n",
       "    .dataframe thead th {\n",
       "        text-align: right;\n",
       "    }\n",
       "</style>\n",
       "<table border=\"1\" class=\"dataframe\">\n",
       "  <thead>\n",
       "    <tr style=\"text-align: right;\">\n",
       "      <th></th>\n",
       "      <th>ID</th>\n",
       "      <th>RA</th>\n",
       "      <th>DEC</th>\n",
       "      <th>Mass_ground_truth</th>\n",
       "      <th>ERR</th>\n",
       "      <th>z</th>\n",
       "      <th>tau</th>\n",
       "      <th>tau_lim_lo</th>\n",
       "      <th>tau_lim_hi</th>\n",
       "      <th>M_tau</th>\n",
       "      <th>mu</th>\n",
       "      <th>M_i</th>\n",
       "    </tr>\n",
       "  </thead>\n",
       "  <tbody>\n",
       "    <tr>\n",
       "      <th>0</th>\n",
       "      <td>301</td>\n",
       "      <td>2.169302</td>\n",
       "      <td>1.238649</td>\n",
       "      <td>7.523331</td>\n",
       "      <td>1.523093</td>\n",
       "      <td>1.0730</td>\n",
       "      <td>1.99550</td>\n",
       "      <td>1.53265</td>\n",
       "      <td>3.72459</td>\n",
       "      <td>7.652679</td>\n",
       "      <td>20.7869</td>\n",
       "      <td>-23.901</td>\n",
       "    </tr>\n",
       "    <tr>\n",
       "      <th>1</th>\n",
       "      <td>144</td>\n",
       "      <td>1.091028</td>\n",
       "      <td>0.962126</td>\n",
       "      <td>8.817950</td>\n",
       "      <td>0.167267</td>\n",
       "      <td>0.7867</td>\n",
       "      <td>2.27673</td>\n",
       "      <td>2.08917</td>\n",
       "      <td>4.02532</td>\n",
       "      <td>8.154875</td>\n",
       "      <td>20.7824</td>\n",
       "      <td>-23.399</td>\n",
       "    </tr>\n",
       "    <tr>\n",
       "      <th>2</th>\n",
       "      <td>58</td>\n",
       "      <td>0.331289</td>\n",
       "      <td>0.177230</td>\n",
       "      <td>8.921718</td>\n",
       "      <td>0.204242</td>\n",
       "      <td>1.6199</td>\n",
       "      <td>1.87484</td>\n",
       "      <td>1.62701</td>\n",
       "      <td>3.03110</td>\n",
       "      <td>7.437214</td>\n",
       "      <td>20.5453</td>\n",
       "      <td>-24.735</td>\n",
       "    </tr>\n",
       "    <tr>\n",
       "      <th>3</th>\n",
       "      <td>190</td>\n",
       "      <td>1.364696</td>\n",
       "      <td>-0.098956</td>\n",
       "      <td>9.022211</td>\n",
       "      <td>0.267495</td>\n",
       "      <td>0.6125</td>\n",
       "      <td>2.47534</td>\n",
       "      <td>2.32222</td>\n",
       "      <td>4.21751</td>\n",
       "      <td>8.509536</td>\n",
       "      <td>19.8859</td>\n",
       "      <td>-23.121</td>\n",
       "    </tr>\n",
       "    <tr>\n",
       "      <th>4</th>\n",
       "      <td>36</td>\n",
       "      <td>0.221552</td>\n",
       "      <td>-0.292485</td>\n",
       "      <td>9.249395</td>\n",
       "      <td>0.057662</td>\n",
       "      <td>2.7563</td>\n",
       "      <td>1.70714</td>\n",
       "      <td>1.28728</td>\n",
       "      <td>3.62220</td>\n",
       "      <td>7.137750</td>\n",
       "      <td>20.6848</td>\n",
       "      <td>-26.451</td>\n",
       "    </tr>\n",
       "  </tbody>\n",
       "</table>\n",
       "</div>"
      ],
      "text/plain": [
       "    ID        RA       DEC  Mass_ground_truth       ERR       z      tau  \\\n",
       "0  301  2.169302  1.238649           7.523331  1.523093  1.0730  1.99550   \n",
       "1  144  1.091028  0.962126           8.817950  0.167267  0.7867  2.27673   \n",
       "2   58  0.331289  0.177230           8.921718  0.204242  1.6199  1.87484   \n",
       "3  190  1.364696 -0.098956           9.022211  0.267495  0.6125  2.47534   \n",
       "4   36  0.221552 -0.292485           9.249395  0.057662  2.7563  1.70714   \n",
       "\n",
       "   tau_lim_lo  tau_lim_hi     M_tau       mu     M_i  \n",
       "0     1.53265     3.72459  7.652679  20.7869 -23.901  \n",
       "1     2.08917     4.02532  8.154875  20.7824 -23.399  \n",
       "2     1.62701     3.03110  7.437214  20.5453 -24.735  \n",
       "3     2.32222     4.21751  8.509536  19.8859 -23.121  \n",
       "4     1.28728     3.62220  7.137750  20.6848 -26.451  "
      ]
     },
     "execution_count": 3,
     "metadata": {},
     "output_type": "execute_result"
    }
   ],
   "source": [
    "# open data\n",
    "df = pd.read_csv('/Users/SnehPandya/Desktop/DeepLearningAGN/data/tau_fulldata_matched2.csv',index_col = 0)\n",
    "df.head()"
   ]
  },
  {
   "cell_type": "code",
   "execution_count": 4,
   "metadata": {},
   "outputs": [
    {
     "data": {
      "text/html": [
       "<div>\n",
       "<style scoped>\n",
       "    .dataframe tbody tr th:only-of-type {\n",
       "        vertical-align: middle;\n",
       "    }\n",
       "\n",
       "    .dataframe tbody tr th {\n",
       "        vertical-align: top;\n",
       "    }\n",
       "\n",
       "    .dataframe thead th {\n",
       "        text-align: right;\n",
       "    }\n",
       "</style>\n",
       "<table border=\"1\" class=\"dataframe\">\n",
       "  <thead>\n",
       "    <tr style=\"text-align: right;\">\n",
       "      <th></th>\n",
       "      <th>Mass_ground_truth</th>\n",
       "      <th>M_i</th>\n",
       "    </tr>\n",
       "  </thead>\n",
       "  <tbody>\n",
       "    <tr>\n",
       "      <th>0</th>\n",
       "      <td>7.523331</td>\n",
       "      <td>-23.901</td>\n",
       "    </tr>\n",
       "    <tr>\n",
       "      <th>1</th>\n",
       "      <td>8.817950</td>\n",
       "      <td>-23.399</td>\n",
       "    </tr>\n",
       "    <tr>\n",
       "      <th>2</th>\n",
       "      <td>8.921718</td>\n",
       "      <td>-24.735</td>\n",
       "    </tr>\n",
       "    <tr>\n",
       "      <th>3</th>\n",
       "      <td>9.022211</td>\n",
       "      <td>-23.121</td>\n",
       "    </tr>\n",
       "    <tr>\n",
       "      <th>4</th>\n",
       "      <td>9.249395</td>\n",
       "      <td>-26.451</td>\n",
       "    </tr>\n",
       "  </tbody>\n",
       "</table>\n",
       "</div>"
      ],
      "text/plain": [
       "   Mass_ground_truth     M_i\n",
       "0           7.523331 -23.901\n",
       "1           8.817950 -23.399\n",
       "2           8.921718 -24.735\n",
       "3           9.022211 -23.121\n",
       "4           9.249395 -26.451"
      ]
     },
     "execution_count": 4,
     "metadata": {},
     "output_type": "execute_result"
    }
   ],
   "source": [
    "df = df.drop(columns = ['ID','z', 'ERR', 'RA','DEC','tau_lim_lo','tau_lim_hi','M_tau','tau','mu'])\n",
    "df.head()"
   ]
  },
  {
   "cell_type": "code",
   "execution_count": 5,
   "metadata": {},
   "outputs": [
    {
     "data": {
      "text/plain": [
       "array([[  7.52333061, -23.901     ],\n",
       "       [  8.81795034, -23.399     ],\n",
       "       [  8.92171817, -24.735     ],\n",
       "       ..., \n",
       "       [  8.45017379, -24.37      ],\n",
       "       [  8.02155865, -23.1       ],\n",
       "       [  8.98848251, -24.63      ]])"
      ]
     },
     "execution_count": 5,
     "metadata": {},
     "output_type": "execute_result"
    }
   ],
   "source": [
    "array = df.to_numpy()\n",
    "array"
   ]
  },
  {
   "cell_type": "code",
   "execution_count": 7,
   "metadata": {},
   "outputs": [
    {
     "name": "stdout",
     "output_type": "stream",
     "text": [
      "[[-23.901]\n",
      " [-23.399]\n",
      " [-24.735]\n",
      " ..., \n",
      " [-24.37 ]\n",
      " [-23.1  ]\n",
      " [-24.63 ]]\n",
      "[ 7.52333061  8.81795034  8.92171817 ...,  8.45017379  8.02155865\n",
      "  8.98848251]\n"
     ]
    }
   ],
   "source": [
    "mi_array = array[:,1].reshape(-1,1)\n",
    "mass_array = array[:,0]\n",
    "print(mi_array)\n",
    "print(mass_array)"
   ]
  },
  {
   "cell_type": "code",
   "execution_count": 16,
   "metadata": {},
   "outputs": [],
   "source": [
    "#split train and test set (X -> tau, y -> mass)\n",
    "X_train, X_test, y_train, y_test = train_test_split(mi_array, mass_array, test_size=0.2, random_state=0)"
   ]
  },
  {
   "cell_type": "code",
   "execution_count": 17,
   "metadata": {},
   "outputs": [
    {
     "data": {
      "text/plain": [
       "LinearRegression(copy_X=True, fit_intercept=True, n_jobs=None, normalize=False)"
      ]
     },
     "execution_count": 17,
     "metadata": {},
     "output_type": "execute_result"
    }
   ],
   "source": [
    "#define regression and train it\n",
    "regressor = LinearRegression()\n",
    "regressor.fit(X_train,y_train)"
   ]
  },
  {
   "cell_type": "code",
   "execution_count": 11,
   "metadata": {},
   "outputs": [
    {
     "name": "stdout",
     "output_type": "stream",
     "text": [
      "2.92700231229\n",
      "[-0.23671964]\n",
      "0.395905178004\n"
     ]
    }
   ],
   "source": [
    "# retrieve line of best fit attributes\n",
    "print(regressor.intercept_) # y-intercept (b)\n",
    "print(regressor.coef_) # slope (m)\n",
    "print(regressor.score(X_test,y_test)) #(r^2 score)"
   ]
  },
  {
   "cell_type": "code",
   "execution_count": 12,
   "metadata": {
    "collapsed": true
   },
   "outputs": [],
   "source": [
    "# apply regression on test set\n",
    "y_pred_test = regressor.predict(X_test)\n",
    "y_pred_train = regressor.predict(X_train)"
   ]
  },
  {
   "cell_type": "code",
   "execution_count": 13,
   "metadata": {},
   "outputs": [
    {
     "data": {
      "image/png": "[encoded data removed]",
      "text/plain": [
       "<matplotlib.figure.Figure at 0x10d791f60>"
      ]
     },
     "metadata": {},
     "output_type": "display_data"
    }
   ],
   "source": [
    "# plotting\n",
    "plt.scatter(X_test, y_test,  color='gray',s=2)\n",
    "plt.plot(X_test, y_pred_test, color='red', linewidth=2)\n",
    "plt.xlabel('M_i')\n",
    "plt.ylabel('LOG(DR7_Mass/M_sun)')\n",
    "plt.title('LinReg fit (test set)')\n",
    "plt.show()"
   ]
  },
  {
   "cell_type": "code",
   "execution_count": 14,
   "metadata": {},
   "outputs": [
    {
     "data": {
      "image/png": "[encoded data removed]",
      "text/plain": [
       "<matplotlib.figure.Figure at 0x10e895d68>"
      ]
     },
     "metadata": {},
     "output_type": "display_data"
    }
   ],
   "source": [
    "plt.scatter(X_test, y_test,  color='gray',s=2)\n",
    "plt.scatter(X_train,y_train,color='gray',s=2)\n",
    "plt.plot(X_test, y_pred_test, color='blue', linewidth=2)\n",
    "plt.xlabel('M_i)')\n",
    "plt.ylabel('LOG(DR7 Mass/M_sun)')\n",
    "plt.title('LinReg fit r^2=' + str(regressor.score(X_test,y_test))[0:9])\n",
    "plt.show()"
   ]
  },
  {
   "cell_type": "code",
   "execution_count": 15,
   "metadata": {},
   "outputs": [
    {
     "name": "stdout",
     "output_type": "stream",
     "text": [
      "Root Mean Squared Error: 0.372930469362\n"
     ]
    }
   ],
   "source": [
    "# statistics\n",
    "print('Root Mean Squared Error:', np.sqrt(metrics.mean_squared_error(y_test, y_pred_test)))"
   ]
  },
  {
   "cell_type": "code",
   "execution_count": null,
   "metadata": {
    "collapsed": true
   },
   "outputs": [],
   "source": []
  }
 ],
 "metadata": {
  "kernelspec": {
   "display_name": "Python 3",
   "language": "python",
   "name": "python3"
  },
  "language_info": {
   "codemirror_mode": {
    "name": "ipython",
    "version": 3
   },
   "file_extension": ".py",
   "mimetype": "text/x-python",
   "name": "python",
   "nbconvert_exporter": "python",
   "pygments_lexer": "ipython3",
   "version": "3.6.2"
  }
 },
 "nbformat": 4,
 "nbformat_minor": 2
}
