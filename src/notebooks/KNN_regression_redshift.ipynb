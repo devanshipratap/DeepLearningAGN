{
 "cells": [
  {
   "cell_type": "code",
   "execution_count": 88,
   "metadata": {
    "collapsed": true
   },
   "outputs": [],
   "source": [
    "## features - u_band, g_band, r_band, i_band, z_band, redshift\n",
    "## targets - BH Mass"
   ]
  },
  {
   "cell_type": "code",
   "execution_count": 89,
   "metadata": {
    "collapsed": true
   },
   "outputs": [],
   "source": [
    "# importing packages\n",
    "import pandas as pd\n",
    "import numpy as np\n",
    "import matplotlib.pyplot as plt\n",
    "from sklearn.model_selection import train_test_split\n",
    "from sklearn.preprocessing import StandardScaler\n",
    "from sklearn.neighbors import KNeighborsRegressor\n",
    "from sklearn import metrics"
   ]
  },
  {
   "cell_type": "code",
   "execution_count": 90,
   "metadata": {},
   "outputs": [
    {
     "data": {
      "text/html": [
       "<div>\n",
       "<style scoped>\n",
       "    .dataframe tbody tr th:only-of-type {\n",
       "        vertical-align: middle;\n",
       "    }\n",
       "\n",
       "    .dataframe tbody tr th {\n",
       "        vertical-align: top;\n",
       "    }\n",
       "\n",
       "    .dataframe thead th {\n",
       "        text-align: right;\n",
       "    }\n",
       "</style>\n",
       "<table border=\"1\" class=\"dataframe\">\n",
       "  <thead>\n",
       "    <tr style=\"text-align: right;\">\n",
       "      <th></th>\n",
       "      <th>u_band</th>\n",
       "      <th>g_band</th>\n",
       "      <th>r_band</th>\n",
       "      <th>i_band</th>\n",
       "      <th>z_band</th>\n",
       "      <th>z</th>\n",
       "    </tr>\n",
       "  </thead>\n",
       "  <tbody>\n",
       "    <tr>\n",
       "      <th>0</th>\n",
       "      <td>18.982250</td>\n",
       "      <td>18.900643</td>\n",
       "      <td>18.596375</td>\n",
       "      <td>18.584750</td>\n",
       "      <td>18.720857</td>\n",
       "      <td>1.1875</td>\n",
       "    </tr>\n",
       "    <tr>\n",
       "      <th>1</th>\n",
       "      <td>20.822754</td>\n",
       "      <td>20.706984</td>\n",
       "      <td>20.583098</td>\n",
       "      <td>20.400262</td>\n",
       "      <td>20.097541</td>\n",
       "      <td>2.0993</td>\n",
       "    </tr>\n",
       "    <tr>\n",
       "      <th>2</th>\n",
       "      <td>21.185649</td>\n",
       "      <td>20.891439</td>\n",
       "      <td>20.409386</td>\n",
       "      <td>20.336351</td>\n",
       "      <td>20.082965</td>\n",
       "      <td>1.1103</td>\n",
       "    </tr>\n",
       "    <tr>\n",
       "      <th>3</th>\n",
       "      <td>20.238111</td>\n",
       "      <td>19.877519</td>\n",
       "      <td>19.916019</td>\n",
       "      <td>19.845519</td>\n",
       "      <td>19.731352</td>\n",
       "      <td>0.6794</td>\n",
       "    </tr>\n",
       "    <tr>\n",
       "      <th>4</th>\n",
       "      <td>17.895957</td>\n",
       "      <td>17.664872</td>\n",
       "      <td>17.407213</td>\n",
       "      <td>17.446128</td>\n",
       "      <td>17.437894</td>\n",
       "      <td>1.0459</td>\n",
       "    </tr>\n",
       "    <tr>\n",
       "      <th>5</th>\n",
       "      <td>20.030270</td>\n",
       "      <td>19.890143</td>\n",
       "      <td>19.572317</td>\n",
       "      <td>19.534397</td>\n",
       "      <td>19.573444</td>\n",
       "      <td>1.2030</td>\n",
       "    </tr>\n",
       "    <tr>\n",
       "      <th>6</th>\n",
       "      <td>18.721000</td>\n",
       "      <td>18.515000</td>\n",
       "      <td>18.543333</td>\n",
       "      <td>18.381000</td>\n",
       "      <td>17.800667</td>\n",
       "      <td>0.4122</td>\n",
       "    </tr>\n",
       "    <tr>\n",
       "      <th>7</th>\n",
       "      <td>20.311204</td>\n",
       "      <td>19.343122</td>\n",
       "      <td>19.101469</td>\n",
       "      <td>18.716061</td>\n",
       "      <td>18.463020</td>\n",
       "      <td>1.7732</td>\n",
       "    </tr>\n",
       "    <tr>\n",
       "      <th>8</th>\n",
       "      <td>18.251062</td>\n",
       "      <td>17.960554</td>\n",
       "      <td>17.815600</td>\n",
       "      <td>17.734831</td>\n",
       "      <td>17.548046</td>\n",
       "      <td>2.1617</td>\n",
       "    </tr>\n",
       "    <tr>\n",
       "      <th>9</th>\n",
       "      <td>22.055582</td>\n",
       "      <td>20.204018</td>\n",
       "      <td>20.095018</td>\n",
       "      <td>20.165564</td>\n",
       "      <td>19.993800</td>\n",
       "      <td>2.9699</td>\n",
       "    </tr>\n",
       "  </tbody>\n",
       "</table>\n",
       "</div>"
      ],
      "text/plain": [
       "      u_band     g_band     r_band     i_band     z_band       z\n",
       "0  18.982250  18.900643  18.596375  18.584750  18.720857  1.1875\n",
       "1  20.822754  20.706984  20.583098  20.400262  20.097541  2.0993\n",
       "2  21.185649  20.891439  20.409386  20.336351  20.082965  1.1103\n",
       "3  20.238111  19.877519  19.916019  19.845519  19.731352  0.6794\n",
       "4  17.895957  17.664872  17.407213  17.446128  17.437894  1.0459\n",
       "5  20.030270  19.890143  19.572317  19.534397  19.573444  1.2030\n",
       "6  18.721000  18.515000  18.543333  18.381000  17.800667  0.4122\n",
       "7  20.311204  19.343122  19.101469  18.716061  18.463020  1.7732\n",
       "8  18.251062  17.960554  17.815600  17.734831  17.548046  2.1617\n",
       "9  22.055582  20.204018  20.095018  20.165564  19.993800  2.9699"
      ]
     },
     "execution_count": 90,
     "metadata": {},
     "output_type": "execute_result"
    }
   ],
   "source": [
    "#reading data\n",
    "df = pd.read_csv('/Users/SnehPandya/Desktop/DeepLearningAGN/data/clean_full_data_absma2g.csv')\n",
    "df = df.drop(columns = ['RA', 'DEC', 'ID', 'ERR', 'M_g','M_r','M_z', 'M_u', 'Unnamed: 0','mu','Mass_ground_truth','M_i'])\n",
    "df.head(10)"
   ]
  },
  {
   "cell_type": "code",
   "execution_count": 91,
   "metadata": {
    "collapsed": true
   },
   "outputs": [],
   "source": [
    "# defining feature and target numpy arrays\n",
    "X = df.iloc[:, 0:4].values\n",
    "y = df.iloc[:,-1].values"
   ]
  },
  {
   "cell_type": "code",
   "execution_count": 92,
   "metadata": {
    "collapsed": true
   },
   "outputs": [],
   "source": [
    "# train test split\n",
    "seed = np.random.seed()\n",
    "X_train, X_test, y_train, y_test = train_test_split(X, y, test_size = 0.20, random_state = seed)"
   ]
  },
  {
   "cell_type": "code",
   "execution_count": 93,
   "metadata": {},
   "outputs": [
    {
     "name": "stdout",
     "output_type": "stream",
     "text": [
      "(1829, 4)\n",
      "(1829,)\n"
     ]
    }
   ],
   "source": [
    "# normalizing features\n",
    "sc = StandardScaler()\n",
    "X_train = sc.fit_transform(X_train)\n",
    "X_test = sc.transform(X_test)\n",
    "print(X_test.shape)\n",
    "print(y_test.shape)"
   ]
  },
  {
   "cell_type": "code",
   "execution_count": 94,
   "metadata": {},
   "outputs": [],
   "source": [
    "# parameter tuning\n",
    "# for i in range(1,100):\n",
    "#     for j in range(1,4):\n",
    "#         n_neighbors = i\n",
    "#         classifier = KNeighborsRegressor(n_neighbors = n_neighbors, weights = 'uniform', p=j)\n",
    "#         classifier.fit(X_train, y_train)\n",
    "#         y_pred = classifier.predict(X_test)\n",
    "#         rmse = np.sqrt(metrics.mean_squared_error(y_test, y_pred))\n",
    "#         r2 = metrics.r2_score(y_test, y_pred)\n",
    "#         print(i,j,rmse,r2)\n",
    "# for i in range(1,100):\n",
    "#     for j in range(1,4):\n",
    "#         n_neighbors = i\n",
    "#         classifier = KNeighborsRegressor(n_neighbors = n_neighbors, weights = 'distance', p=j)\n",
    "#         classifier.fit(X_train, y_train)\n",
    "#         y_pred = classifier.predict(X_test)\n",
    "#         rmse = np.sqrt(metrics.mean_squared_error(y_test, y_pred))\n",
    "#         r2 = metrics.r2_score(y_test, y_pred)\n",
    "#         print(i,j,rmse,r2)"
   ]
  },
  {
   "cell_type": "code",
   "execution_count": 95,
   "metadata": {},
   "outputs": [
    {
     "data": {
      "text/plain": [
       "KNeighborsRegressor(algorithm='auto', leaf_size=30, metric='minkowski',\n",
       "                    metric_params=None, n_jobs=None, n_neighbors=15, p=2,\n",
       "                    weights='distance')"
      ]
     },
     "execution_count": 95,
     "metadata": {},
     "output_type": "execute_result"
    }
   ],
   "source": [
    "# KNN Regression Classifier\n",
    "n_neighbors = 15\n",
    "classifier = KNeighborsRegressor(n_neighbors = n_neighbors, weights = 'distance', p=2)\n",
    "classifier.fit(X_train, y_train)"
   ]
  },
  {
   "cell_type": "code",
   "execution_count": 96,
   "metadata": {
    "collapsed": true
   },
   "outputs": [],
   "source": [
    "# Fitting\n",
    "y_pred = classifier.predict(X_test)"
   ]
  },
  {
   "cell_type": "code",
   "execution_count": 97,
   "metadata": {},
   "outputs": [
    {
     "data": {
      "image/png": "[encoded data removed]",
      "text/plain": [
       "<matplotlib.figure.Figure at 0x11997a908>"
      ]
     },
     "metadata": {},
     "output_type": "display_data"
    }
   ],
   "source": [
    "plt.plot(y_test, y_test, color = 'black', label = 'Mass ground truth')\n",
    "plt.scatter(y_test, y_pred, color = 'blue', s=2, label = 'KNN prediction')\n",
    "plt.xlabel('BH Mass')\n",
    "plt.ylabel('BH Mass')\n",
    "plt.legend()\n",
    "plt.title('KNN Regression Prediction')\n",
    "plt.show()"
   ]
  },
  {
   "cell_type": "code",
   "execution_count": 98,
   "metadata": {},
   "outputs": [
    {
     "name": "stdout",
     "output_type": "stream",
     "text": [
      "Root Mean Squared Error: 0.433344908598\n",
      "r2 score: 0.626167312393\n"
     ]
    }
   ],
   "source": [
    "print('Root Mean Squared Error:', np.sqrt(metrics.mean_squared_error(y_test, y_pred)))\n",
    "print('r2 score:', metrics.r2_score(y_test, y_pred))"
   ]
  },
  {
   "cell_type": "code",
   "execution_count": null,
   "metadata": {
    "collapsed": true
   },
   "outputs": [],
   "source": []
  }
 ],
 "metadata": {
  "kernelspec": {
   "display_name": "Python 3",
   "language": "python",
   "name": "python3"
  },
  "language_info": {
   "codemirror_mode": {
    "name": "ipython",
    "version": 3
   },
   "file_extension": ".py",
   "mimetype": "text/x-python",
   "name": "python",
   "nbconvert_exporter": "python",
   "pygments_lexer": "ipython3",
   "version": "3.6.2"
  }
 },
 "nbformat": 4,
 "nbformat_minor": 2
}
