{
 "cells": [
  {
   "cell_type": "code",
   "execution_count": 21,
   "metadata": {},
   "outputs": [],
   "source": [
    "\"\"\"\n",
    "Module for plotting the overlap between the\n",
    "Stripe 82 and DR7 data sets\n",
    "\"\"\"\n",
    "import pandas as pd\n",
    "import matplotlib.pyplot as plt\n",
    "import seaborn as sns"
   ]
  },
  {
   "cell_type": "code",
   "execution_count": 22,
   "metadata": {},
   "outputs": [],
   "source": [
    "# Importing data files\n",
    "DR7 = pd.read_csv('../scripts/clean_dr7.csv')\n",
    "S82 = pd.read_csv('../scripts/clean_stripe82.csv')"
   ]
  },
  {
   "cell_type": "code",
   "execution_count": 23,
   "metadata": {},
   "outputs": [],
   "source": [
    "# Align column headers\n",
    "DR7 = DR7.rename(columns={'ra': 'ra_DR7', 'dec': 'dec_DR7'})\n",
    "S82 = S82.rename(columns={'ra': 'ra_S82', 'dec': 'dec_S82'})"
   ]
  },
  {
   "cell_type": "code",
   "execution_count": null,
   "metadata": {},
   "outputs": [],
   "source": [
    "# Plotting the sky map\n",
    "plt.figure(figsize=(8, 5))\n",
    "sns.set_context('paper')\n",
    "sns.set(font='sans serif')\n",
    "sns.regplot(x=DR7['ra_DR7'], y=DR7['dec_DR7'], scatter=True, marker='o', color='r', fit_reg=False,\n",
    "            scatter_kws={'s': 5, 'alpha': 0.4}, label='DR7')\n",
    "sns.regplot(x=S82['ra_S82'], y=S82['dec_S82'], scatter=True, marker='o', color='k', fit_reg=False,\n",
    "            scatter_kws={'s': 5}, label='Stripe 82')\n",
    "plt.ylabel('Declination [decimal degrees]')\n",
    "plt.xlabel('RA [decimal degrees]')\n",
    "plt.title('Sky Coverage for Stripe 82 and DR7')\n",
    "plt.legend()\n",
    "plt.show()"
   ]
  },
  {
   "cell_type": "code",
   "execution_count": null,
   "metadata": {},
   "outputs": [],
   "source": []
  }
 ],
 "metadata": {
  "kernelspec": {
   "display_name": "Python 3",
   "language": "python",
   "name": "python3"
  },
  "language_info": {
   "codemirror_mode": {
    "name": "ipython",
    "version": 3
   },
   "file_extension": ".py",
   "mimetype": "text/x-python",
   "name": "python",
   "nbconvert_exporter": "python",
   "pygments_lexer": "ipython3",
   "version": "3.7.4"
  }
 },
 "nbformat": 4,
 "nbformat_minor": 2
}
